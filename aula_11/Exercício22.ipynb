{
 "cells": [
  {
   "cell_type": "markdown",
   "id": "306df2ef-2e49-4921-a730-11b19d7a0b6f",
   "metadata": {},
   "source": [
    "### Exercício 22\n",
    "##### Discretizar atributo numérico que possui os valores abaixo em 3 intervalos\n",
    "##### [0, 1, 2, 6, 6, 9, 10, 10, 10, 13, 16, 17, 18, 20, 20, 21, 21, 25]\n",
    "##### Usar\n",
    "##### Larguras iguais\n",
    "##### Frequências iguais\n",
    "##### Inspeção visual"
   ]
  },
  {
   "cell_type": "code",
   "execution_count": 2,
   "id": "300e6d02-2ad0-44b9-ad95-f56f72471eea",
   "metadata": {},
   "outputs": [],
   "source": [
    "import numpy as np\n",
    "import pandas as pd"
   ]
  },
  {
   "cell_type": "code",
   "execution_count": 3,
   "id": "5b982e08-f96d-4746-9644-0d1449656dcb",
   "metadata": {},
   "outputs": [
    {
     "name": "stdout",
     "output_type": "stream",
     "text": [
      "Larguras Iguais:\n",
      "    Valor    Categoria\n",
      "0       0  Intervalo 1\n",
      "1       1  Intervalo 1\n",
      "2       2  Intervalo 1\n",
      "3       6  Intervalo 1\n",
      "4       6  Intervalo 1\n",
      "5       9  Intervalo 2\n",
      "6      10  Intervalo 2\n",
      "7      10  Intervalo 2\n",
      "8      10  Intervalo 2\n",
      "9      13  Intervalo 2\n",
      "10     16  Intervalo 2\n",
      "11     17  Intervalo 3\n",
      "12     18  Intervalo 3\n",
      "13     20  Intervalo 3\n",
      "14     20  Intervalo 3\n",
      "15     21  Intervalo 3\n",
      "16     21  Intervalo 3\n",
      "17     25          NaN\n"
     ]
    }
   ],
   "source": [
    "valores = [0, 1, 2, 6, 6, 9, 10, 10, 10, 13, 16, 17, 18, 20, 20, 21, 21, 25]\n",
    "\n",
    "# Discretização por larguras iguais\n",
    "num_intervals = 3\n",
    "bins = np.linspace(min(valores), max(valores), num_intervals + 1)  # Define os limites dos intervalos\n",
    "categorias = pd.cut(valores, bins, right=False, labels=[f\"Intervalo {i+1}\" for i in range(num_intervals)])\n",
    "\n",
    "print(\"Larguras Iguais:\")\n",
    "print(pd.DataFrame({'Valor': valores, 'Categoria': categorias}))"
   ]
  },
  {
   "cell_type": "code",
   "execution_count": 4,
   "id": "e8e8fee2-51b2-41f8-a695-953425a5b221",
   "metadata": {},
   "outputs": [
    {
     "name": "stdout",
     "output_type": "stream",
     "text": [
      "\n",
      "Frequências Iguais:\n",
      "    Valor Categoria\n",
      "0       0   Grupo 1\n",
      "1       1   Grupo 1\n",
      "2       2   Grupo 1\n",
      "3       6   Grupo 1\n",
      "4       6   Grupo 1\n",
      "5       9   Grupo 1\n",
      "6      10   Grupo 2\n",
      "7      10   Grupo 2\n",
      "8      10   Grupo 2\n",
      "9      13   Grupo 2\n",
      "10     16   Grupo 2\n",
      "11     17   Grupo 2\n",
      "12     18   Grupo 3\n",
      "13     20   Grupo 3\n",
      "14     20   Grupo 3\n",
      "15     21   Grupo 3\n",
      "16     21   Grupo 3\n",
      "17     25   Grupo 3\n"
     ]
    }
   ],
   "source": [
    "# Discretização por frequências iguais\n",
    "num_intervals = 3\n",
    "categorias_freq = pd.qcut(valores, num_intervals, labels=[f\"Grupo {i+1}\" for i in range(num_intervals)])\n",
    "\n",
    "print(\"\\nFrequências Iguais:\")\n",
    "print(pd.DataFrame({'Valor': valores, 'Categoria': categorias_freq}))"
   ]
  },
  {
   "cell_type": "code",
   "execution_count": 5,
   "id": "8a7a7c82-781e-4060-92c3-6c2aa5b1e3e6",
   "metadata": {},
   "outputs": [
    {
     "name": "stdout",
     "output_type": "stream",
     "text": [
      "\n",
      "Inspeção Visual:\n",
      "    Valor Categoria\n",
      "0       0       NaN\n",
      "1       1    Baixos\n",
      "2       2    Baixos\n",
      "3       6    Baixos\n",
      "4       6    Baixos\n",
      "5       9    Médios\n",
      "6      10    Médios\n",
      "7      10    Médios\n",
      "8      10    Médios\n",
      "9      13    Médios\n",
      "10     16    Médios\n",
      "11     17     Altos\n",
      "12     18     Altos\n",
      "13     20     Altos\n",
      "14     20     Altos\n",
      "15     21     Altos\n",
      "16     21     Altos\n",
      "17     25     Altos\n"
     ]
    }
   ],
   "source": [
    "# Definindo intervalos manualmente com base na inspeção\n",
    "bins_visual = [0, 6, 16, 25]\n",
    "categorias_visual = pd.cut(valores, bins_visual, right=True, labels=[\"Baixos\", \"Médios\", \"Altos\"])\n",
    "\n",
    "print(\"\\nInspeção Visual:\")\n",
    "print(pd.DataFrame({'Valor': valores, 'Categoria': categorias_visual}))"
   ]
  },
  {
   "cell_type": "code",
   "execution_count": null,
   "id": "20e3371f-112f-4ad6-8986-bdb488f9de37",
   "metadata": {},
   "outputs": [],
   "source": []
  }
 ],
 "metadata": {
  "kernelspec": {
   "display_name": "Python 3 (ipykernel)",
   "language": "python",
   "name": "python3"
  },
  "language_info": {
   "codemirror_mode": {
    "name": "ipython",
    "version": 3
   },
   "file_extension": ".py",
   "mimetype": "text/x-python",
   "name": "python",
   "nbconvert_exporter": "python",
   "pygments_lexer": "ipython3",
   "version": "3.12.4"
  }
 },
 "nbformat": 4,
 "nbformat_minor": 5
}
