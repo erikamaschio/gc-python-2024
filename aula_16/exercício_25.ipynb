{
 "cells": [
  {
   "cell_type": "markdown",
   "id": "5b1c4cda-84f9-44f9-be42-991cdb31b7ec",
   "metadata": {},
   "source": [
    "### Prática\n",
    "##### ✦ Dataset: movies\n",
    "##### ✦ Encontrar possíveis recomendações de filmes a partir do agrupamento de gêneros.\n",
    "##### ✦ Fragmento do DataSet"
   ]
  },
  {
   "cell_type": "code",
   "execution_count": 1,
   "id": "e40941b4-c888-499b-9d9d-d7241dcd5a0e",
   "metadata": {},
   "outputs": [],
   "source": [
    "import pandas as pd\n",
    "from sklearn.feature_extraction.text import CountVectorizer  \n",
    "from sklearn.metrics.pairwise import cosine_similarity"
   ]
  },
  {
   "cell_type": "code",
   "execution_count": 2,
   "id": "2017803d-79c9-4ee8-80c6-23395552185d",
   "metadata": {},
   "outputs": [],
   "source": [
    "df = pd.read_csv('movies.csv')"
   ]
  },
  {
   "cell_type": "code",
   "execution_count": 3,
   "id": "17546a9e-46ae-4075-a04a-e1aad9d597f4",
   "metadata": {},
   "outputs": [
    {
     "data": {
      "text/html": [
       "<div>\n",
       "<style scoped>\n",
       "    .dataframe tbody tr th:only-of-type {\n",
       "        vertical-align: middle;\n",
       "    }\n",
       "\n",
       "    .dataframe tbody tr th {\n",
       "        vertical-align: top;\n",
       "    }\n",
       "\n",
       "    .dataframe thead th {\n",
       "        text-align: right;\n",
       "    }\n",
       "</style>\n",
       "<table border=\"1\" class=\"dataframe\">\n",
       "  <thead>\n",
       "    <tr style=\"text-align: right;\">\n",
       "      <th></th>\n",
       "      <th>movieId</th>\n",
       "      <th>title</th>\n",
       "      <th>genres</th>\n",
       "    </tr>\n",
       "  </thead>\n",
       "  <tbody>\n",
       "    <tr>\n",
       "      <th>0</th>\n",
       "      <td>1</td>\n",
       "      <td>Toy Story (1995)</td>\n",
       "      <td>Adventure|Animation|Children|Comedy|Fantasy</td>\n",
       "    </tr>\n",
       "    <tr>\n",
       "      <th>1</th>\n",
       "      <td>2</td>\n",
       "      <td>Jumanji (1995)</td>\n",
       "      <td>Adventure|Children|Fantasy</td>\n",
       "    </tr>\n",
       "    <tr>\n",
       "      <th>2</th>\n",
       "      <td>3</td>\n",
       "      <td>Grumpier Old Men (1995)</td>\n",
       "      <td>Comedy|Romance</td>\n",
       "    </tr>\n",
       "    <tr>\n",
       "      <th>3</th>\n",
       "      <td>4</td>\n",
       "      <td>Waiting to Exhale (1995)</td>\n",
       "      <td>Comedy|Drama|Romance</td>\n",
       "    </tr>\n",
       "    <tr>\n",
       "      <th>4</th>\n",
       "      <td>5</td>\n",
       "      <td>Father of the Bride Part II (1995)</td>\n",
       "      <td>Comedy</td>\n",
       "    </tr>\n",
       "  </tbody>\n",
       "</table>\n",
       "</div>"
      ],
      "text/plain": [
       "   movieId                               title  \\\n",
       "0        1                    Toy Story (1995)   \n",
       "1        2                      Jumanji (1995)   \n",
       "2        3             Grumpier Old Men (1995)   \n",
       "3        4            Waiting to Exhale (1995)   \n",
       "4        5  Father of the Bride Part II (1995)   \n",
       "\n",
       "                                        genres  \n",
       "0  Adventure|Animation|Children|Comedy|Fantasy  \n",
       "1                   Adventure|Children|Fantasy  \n",
       "2                               Comedy|Romance  \n",
       "3                         Comedy|Drama|Romance  \n",
       "4                                       Comedy  "
      ]
     },
     "execution_count": 3,
     "metadata": {},
     "output_type": "execute_result"
    }
   ],
   "source": [
    "df.head()"
   ]
  },
  {
   "cell_type": "code",
   "execution_count": 4,
   "id": "d49956fc-b544-4b4f-a078-289f17bb48e0",
   "metadata": {},
   "outputs": [
    {
     "name": "stderr",
     "output_type": "stream",
     "text": [
      "/home/erikamaschio/miniconda3/lib/python3.12/site-packages/sklearn/feature_extraction/text.py:521: UserWarning: The parameter 'token_pattern' will not be used since 'tokenizer' is not None'\n",
      "  warnings.warn(\n"
     ]
    },
    {
     "name": "stdout",
     "output_type": "stream",
     "text": [
      "['Antz (1998)', 'Toy Story 2 (1999)', 'Adventures of Rocky and Bullwinkle, The (2000)', \"Emperor's New Groove, The (2000)\", 'Monsters, Inc. (2001)']\n"
     ]
    }
   ],
   "source": [
    "# Pré-processar a coluna de gêneros\n",
    "df['genres'] = df['genres'].str.split('|')\n",
    "\n",
    "# Criar um CountVectorizer para transformar a lista de gêneros em uma matriz binária\n",
    "vectorizer = CountVectorizer(tokenizer=lambda x: x, lowercase=False)\n",
    "genre_matrix = vectorizer.fit_transform(df['genres'])\n",
    "\n",
    "# Calcular a similaridade entre os filmes com base nos gêneros\n",
    "similarity_matrix = cosine_similarity(genre_matrix)\n",
    "\n",
    "# Função para recomendar filmes baseados em um filme\n",
    "def recomendar_filmes(movie_id, top_n=5):\n",
    "    # Encontrar o índice do filme no dataframe\n",
    "    idx = df[df['movieId'] == movie_id].index[0]\n",
    "    \n",
    "    # Obter as similaridades do filme selecionado com todos os outros filmes\n",
    "    similarity_scores = list(enumerate(similarity_matrix[idx]))\n",
    "    \n",
    "    # Ordenar os filmes pela similaridade em ordem decrescente\n",
    "    similarity_scores = sorted(similarity_scores, key=lambda x: x[1], reverse=True)\n",
    "    \n",
    "    # Obter os filmes mais semelhantes\n",
    "    recommended_movies = [df['title'].iloc[i[0]] for i in similarity_scores[1:top_n+1]]\n",
    "    \n",
    "    return recommended_movies\n",
    "\n",
    "# Exemplo: recomendar filmes para o filme com movieId = 1\n",
    "movie_id = 1\n",
    "recomendacoes = recomendar_filmes(movie_id)\n",
    "print(recomendacoes)"
   ]
  },
  {
   "cell_type": "code",
   "execution_count": null,
   "id": "79f37e7e-b191-4df6-a694-4ea0202e1db2",
   "metadata": {},
   "outputs": [],
   "source": []
  }
 ],
 "metadata": {
  "kernelspec": {
   "display_name": "Python 3 (ipykernel)",
   "language": "python",
   "name": "python3"
  },
  "language_info": {
   "codemirror_mode": {
    "name": "ipython",
    "version": 3
   },
   "file_extension": ".py",
   "mimetype": "text/x-python",
   "name": "python",
   "nbconvert_exporter": "python",
   "pygments_lexer": "ipython3",
   "version": "3.12.4"
  }
 },
 "nbformat": 4,
 "nbformat_minor": 5
}
