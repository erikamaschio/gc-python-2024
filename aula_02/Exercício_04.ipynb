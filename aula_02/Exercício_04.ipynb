{
 "cells": [
  {
   "cell_type": "markdown",
   "id": "907d708a-c2f0-4c75-b671-88746305ac53",
   "metadata": {},
   "source": [
    "### Exercício 04\n",
    "\n",
    "#### Crie um programa em Python que solicite ao usuário que insira a sua idade. Com base na idade fornecida, o programa deve verificar se o usuário é menor de idade, maior de idade ou se está completando 18 anos.\n",
    "\n",
    "#### Se a idade for menor que 18 anos, o programa deve exibir \"Menor de idade!\".\n",
    "\n",
    "#### Se a idade for exatamente 18 anos, o programa deve exibir \"Feliz aniversário!\".\n",
    "\n",
    "#### Se a idade for maior que 18 anos, o programa deve exibir \"Maior de idade!\"."
   ]
  },
  {
   "cell_type": "code",
   "execution_count": 4,
   "id": "840ab087-7341-4b1f-91ac-e8471272bb87",
   "metadata": {},
   "outputs": [
    {
     "name": "stdin",
     "output_type": "stream",
     "text": [
      "Digite sua idade:  20\n"
     ]
    },
    {
     "name": "stdout",
     "output_type": "stream",
     "text": [
      "Maior de idade!\n"
     ]
    }
   ],
   "source": [
    "idade = (int(input('Digite sua idade: ')))\n",
    "\n",
    "if idade < 18:\n",
    "    print('Menor de idade!')\n",
    "elif idade == 18:\n",
    "    print('Feliz Aniversário!')\n",
    "else:\n",
    "    print('Maior de idade!')\n"
   ]
  },
  {
   "cell_type": "code",
   "execution_count": null,
   "id": "2ecc5378-6875-4706-9060-b77a63801375",
   "metadata": {},
   "outputs": [],
   "source": []
  }
 ],
 "metadata": {
  "kernelspec": {
   "display_name": "Python 3 (ipykernel)",
   "language": "python",
   "name": "python3"
  },
  "language_info": {
   "codemirror_mode": {
    "name": "ipython",
    "version": 3
   },
   "file_extension": ".py",
   "mimetype": "text/x-python",
   "name": "python",
   "nbconvert_exporter": "python",
   "pygments_lexer": "ipython3",
   "version": "3.12.4"
  }
 },
 "nbformat": 4,
 "nbformat_minor": 5
}
