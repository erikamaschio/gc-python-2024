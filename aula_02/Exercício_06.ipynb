{
 "cells": [
  {
   "cell_type": "markdown",
   "id": "1276da9f-6706-42a6-99c9-9a25696d4995",
   "metadata": {},
   "source": [
    "### Exercício 06\n",
    "\n",
    "#### Crie um programa em Python que peça ao usuário para inserir o nome de três amigos. O programa deve armazenar esses nomes em uma lista e, em seguida, exibir uma mensagem personalizada para cada amigo, indicando que ele é seu amigo. \n",
    "\n",
    "#### O programa deve solicitar o nome de três amigos, um por vez. \n",
    "\n",
    "#### Após coletar os nomes, o programa deve exibir uma mensagem para cada nome na lista, como \"Nome_do_Amigo é meu amigo\". "
   ]
  },
  {
   "cell_type": "code",
   "execution_count": null,
   "id": "0ec8c962-83c8-4729-b7a0-2799a9559e33",
   "metadata": {},
   "outputs": [],
   "source": [
    "amigos = []\n",
    "\n",
    "for amigo in range(3):\n",
    "    nome = input('Digite o nome do seu amigo: ')\n",
    "    amigos.append(nome)\n",
    "\n",
    "for amigo in amigos:\n",
    "    print(amigo, 'é meu amigo.')"
   ]
  },
  {
   "cell_type": "code",
   "execution_count": null,
   "id": "2da32519-179a-4223-bcc5-e09f692bb1e6",
   "metadata": {},
   "outputs": [],
   "source": []
  }
 ],
 "metadata": {
  "kernelspec": {
   "display_name": "Python 3 (ipykernel)",
   "language": "python",
   "name": "python3"
  },
  "language_info": {
   "codemirror_mode": {
    "name": "ipython",
    "version": 3
   },
   "file_extension": ".py",
   "mimetype": "text/x-python",
   "name": "python",
   "nbconvert_exporter": "python",
   "pygments_lexer": "ipython3",
   "version": "3.12.4"
  }
 },
 "nbformat": 4,
 "nbformat_minor": 5
}
