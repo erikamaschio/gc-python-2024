{
 "cells": [
  {
   "cell_type": "markdown",
   "id": "1db9b712-98b6-4078-93ad-0607f5fcd37d",
   "metadata": {},
   "source": [
    "# Revisao Python!"
   ]
  },
  {
   "cell_type": "code",
   "execution_count": 2,
   "id": "97e0b2fc-dcd9-4afc-9ad6-7a344a4e94c1",
   "metadata": {},
   "outputs": [
    {
     "name": "stdout",
     "output_type": "stream",
     "text": [
      "Hello Wolrd\n"
     ]
    }
   ],
   "source": [
    "print('Hello Wolrd')"
   ]
  },
  {
   "cell_type": "code",
   "execution_count": null,
   "id": "07bba44e-b149-45ef-9bca-b6efed92e493",
   "metadata": {},
   "outputs": [],
   "source": [
    "nome = 'Isaculo'\n",
    "eh_professor = True # false\n",
    "nota = 10\n",
    "dinheiro_na_conta = 20.00 #números quebrados, decimais, ponto flutuantes"
   ]
  },
  {
   "cell_type": "code",
   "execution_count": null,
   "id": "4907e622-fcee-4d47-8d91-03e901d4d6b7",
   "metadata": {},
   "outputs": [],
   "source": [
    "if 10 < 3:\n",
    "    print ('Maior que 3')\n",
    "else: \n",
    "    print ('Menor que 3')"
   ]
  },
  {
   "cell_type": "code",
   "execution_count": null,
   "id": "b3fcbddb-e093-4181-9c0b-56657f398ceb",
   "metadata": {},
   "outputs": [],
   "source": [
    "list_compras = ['Maça', 'Banana']\n",
    "\n",
    "for item in lista_compras:\n",
    "    prin"
   ]
  }
 ],
 "metadata": {
  "kernelspec": {
   "display_name": "Python 3 (ipykernel)",
   "language": "python",
   "name": "python3"
  },
  "language_info": {
   "codemirror_mode": {
    "name": "ipython",
    "version": 3
   },
   "file_extension": ".py",
   "mimetype": "text/x-python",
   "name": "python",
   "nbconvert_exporter": "python",
   "pygments_lexer": "ipython3",
   "version": "3.12.4"
  }
 },
 "nbformat": 4,
 "nbformat_minor": 5
}
