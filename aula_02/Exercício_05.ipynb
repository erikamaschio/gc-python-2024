{
 "cells": [
  {
   "cell_type": "markdown",
   "id": "7a500c74-0f85-4f2d-98e2-9910d1af13ed",
   "metadata": {},
   "source": [
    "### Exercício 05\n",
    "\n",
    "#### Crie um programa em Python que utilize um laço de repetição para contar de 1 a 5. O programa deve exibir cada número da contagem, um por vez, na tela.​​\n",
    "\n",
    "#### Inicie a contagem em 1 e continue até alcançar o número 5.​​\n",
    "\n",
    "#### Para cada número, o programa deve exibir a mensagem \"Contagem: X\", onde X é o número atual da contagem."
   ]
  },
  {
   "cell_type": "code",
   "execution_count": 2,
   "id": "d3005e0e-5489-4108-9c37-8ed23218538b",
   "metadata": {},
   "outputs": [
    {
     "name": "stdout",
     "output_type": "stream",
     "text": [
      "Contagem: 1\n",
      "Contagem: 2\n",
      "Contagem: 3\n",
      "Contagem: 4\n",
      "Contagem: 5\n"
     ]
    }
   ],
   "source": [
    "for contagem in range(1,6):\n",
    "    print('Contagem:', contagem)"
   ]
  },
  {
   "cell_type": "code",
   "execution_count": null,
   "id": "2e6d41a7-86e8-4828-88c8-5c1332f1cde8",
   "metadata": {},
   "outputs": [],
   "source": []
  }
 ],
 "metadata": {
  "kernelspec": {
   "display_name": "Python 3 (ipykernel)",
   "language": "python",
   "name": "python3"
  },
  "language_info": {
   "codemirror_mode": {
    "name": "ipython",
    "version": 3
   },
   "file_extension": ".py",
   "mimetype": "text/x-python",
   "name": "python",
   "nbconvert_exporter": "python",
   "pygments_lexer": "ipython3",
   "version": "3.12.4"
  }
 },
 "nbformat": 4,
 "nbformat_minor": 5
}
