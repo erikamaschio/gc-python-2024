{
 "cells": [
  {
   "cell_type": "code",
   "execution_count": 1,
   "id": "4b0d4fc9-6308-443c-bfa6-f49489e1cda3",
   "metadata": {},
   "outputs": [
    {
     "name": "stdout",
     "output_type": "stream",
     "text": [
      "Erika\n"
     ]
    }
   ],
   "source": [
    "#Exercício 01\n",
    "\n",
    "nome = 'Erika'\n",
    "print(nome)"
   ]
  },
  {
   "cell_type": "code",
   "execution_count": 4,
   "id": "840ab087-7341-4b1f-91ac-e8471272bb87",
   "metadata": {},
   "outputs": [
    {
     "name": "stdin",
     "output_type": "stream",
     "text": [
      "Digite sua idade:  20\n"
     ]
    },
    {
     "name": "stdout",
     "output_type": "stream",
     "text": [
      "Maior de idade!\n"
     ]
    }
   ],
   "source": [
    "#Exercício 02\n",
    "\n",
    "idade = (int(input('Digite sua idade: ')))\n",
    "\n",
    "if idade < 18:\n",
    "    print('Menor de idade!')\n",
    "elif idade == 18:\n",
    "    print('Feliz Aniversário!')\n",
    "else:\n",
    "    print('Maior de idade!')\n"
   ]
  },
  {
   "cell_type": "code",
   "execution_count": 5,
   "id": "6b59dadc-49f3-430a-acf3-b4e4dafea141",
   "metadata": {},
   "outputs": [
    {
     "name": "stdout",
     "output_type": "stream",
     "text": [
      "Contagem: 1\n",
      "Contagem: 2\n",
      "Contagem: 3\n",
      "Contagem: 4\n",
      "Contagem: 5\n"
     ]
    }
   ],
   "source": [
    "#Exercício 03\n",
    "\n",
    "for contagem in range(1,6):\n",
    "    print('Contagem:', contagem)"
   ]
  },
  {
   "cell_type": "code",
   "execution_count": 6,
   "id": "af4b921f-4ecb-435f-979a-2fb90efb4488",
   "metadata": {},
   "outputs": [
    {
     "name": "stdin",
     "output_type": "stream",
     "text": [
      "Digite o nome do seu amigo:  zoe\n",
      "Digite o nome do seu amigo:  bela\n",
      "Digite o nome do seu amigo:  dani\n"
     ]
    },
    {
     "name": "stdout",
     "output_type": "stream",
     "text": [
      "zoe é meu amigo.\n",
      "bela é meu amigo.\n",
      "dani é meu amigo.\n"
     ]
    }
   ],
   "source": [
    "#Exercício 04\n",
    "amigos = []\n",
    "\n",
    "for amigo in range(3):\n",
    "    nome = input('Digite o nome do seu amigo: ')\n",
    "    amigos.append(nome)\n",
    "\n",
    "for amigo in amigos:\n",
    "    print(amigo, 'é meu amigo.')"
   ]
  },
  {
   "cell_type": "code",
   "execution_count": null,
   "id": "4198759b-9528-4a14-9f9e-4725c09b8ff0",
   "metadata": {},
   "outputs": [],
   "source": []
  }
 ],
 "metadata": {
  "kernelspec": {
   "display_name": "Python 3 (ipykernel)",
   "language": "python",
   "name": "python3"
  },
  "language_info": {
   "codemirror_mode": {
    "name": "ipython",
    "version": 3
   },
   "file_extension": ".py",
   "mimetype": "text/x-python",
   "name": "python",
   "nbconvert_exporter": "python",
   "pygments_lexer": "ipython3",
   "version": "3.12.4"
  }
 },
 "nbformat": 4,
 "nbformat_minor": 5
}
