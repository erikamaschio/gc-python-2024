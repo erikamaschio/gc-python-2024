{
 "cells": [
  {
   "cell_type": "markdown",
   "id": "21d9d658-14d3-48fe-9f32-ef657ff29f55",
   "metadata": {},
   "source": [
    "### Exercício 09\n",
    "#### ✦ Use 3 dataframes criados na aula anterior, mostre apenas o filme/série/anime com maior pontuação.\n",
    "#### ✦ Leia o arquivo do dataset em json.\n",
    "#### ✦ Selecione apenas as 3 primeiras colunas do dataset\n",
    "#### ✦ Selecione apenas as 10 primeiras linhas do dataset"
   ]
  },
  {
   "cell_type": "code",
   "execution_count": null,
   "id": "ac5eeaab-8b25-4489-b599-05f520e007c1",
   "metadata": {},
   "outputs": [],
   "source": []
  }
 ],
 "metadata": {
  "kernelspec": {
   "display_name": "Python 3 (ipykernel)",
   "language": "python",
   "name": "python3"
  },
  "language_info": {
   "codemirror_mode": {
    "name": "ipython",
    "version": 3
   },
   "file_extension": ".py",
   "mimetype": "text/x-python",
   "name": "python",
   "nbconvert_exporter": "python",
   "pygments_lexer": "ipython3",
   "version": "3.12.4"
  }
 },
 "nbformat": 4,
 "nbformat_minor": 5
}
