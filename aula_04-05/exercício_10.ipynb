{
 "cells": [
  {
   "cell_type": "markdown",
   "id": "c0759a10-d3eb-4e42-b6ef-72faa78d19b3",
   "metadata": {},
   "source": [
    "### Exercício 10 Coop - Responda as Perguntas\n",
    "### ✦ O que é uma chave primária em um banco de dados? Por que é importante que cada tabela tenha uma chave primária?"
   ]
  },
  {
   "cell_type": "markdown",
   "id": "d86e69af-5903-480f-948c-9db98d9d7e50",
   "metadata": {
    "jp-MarkdownHeadingCollapsed": true
   },
   "source": [
    "##### Uma chave primária é um atributo ou conjunto de atributos em uma tabela de banco de dados que serve para identificar de maneira exclusiva cada registro. \n",
    "\n",
    "##### Principais razões para que cada tabela possua uma chave primária:\n",
    "##### ✦ **Identificação Exclusiva**: Garante que cada registro seja único e possa ser distinguido dos demais.\n",
    "##### ✦ **Relacionamentos entre Tabelas**: As chaves primárias são fundamentais para criar vínculos entre diferentes tabelas.\n",
    "##### ✦ **Integridade dos Dados**: Elas asseguram a integridade, evitando duplicações e inconsistências nos dados.\n",
    "##### ✦ **Eficiência nas Consultas**: São comumente usadas como índices, tornando as buscas e recuperações de dados mais rápidas.\n",
    "##### ✦ **Referência para Outras Tabelas**: A chave primária de uma tabela pode ser usada como chave estrangeira em outras, estabelecendo relações entre os dados."
   ]
  },
  {
   "cell_type": "markdown",
   "id": "33b479e6-d098-4f66-bf92-8b7334fd54c2",
   "metadata": {},
   "source": [
    "#### ✦ Em um dataframe do Pandas, como você pode identificar uma coluna que atua como uma chave primária?"
   ]
  },
  {
   "cell_type": "markdown",
   "id": "98c01453-7b2b-4cb7-a9ec-a7f9adc5db87",
   "metadata": {},
   "source": [
    "Para identificar se uma coluna em um DataFrame do Pandas pode ser uma chave primária:\n",
    "\n",
    " **Verificar a unicidade**: Use `nunique()` para garantir que o número de valores únicos na coluna seja igual ao número total de linhas.\n",
    "##### **Verificar valores nulos**: Use `isnull().sum()` para confirmar que a coluna não contém valores nulos.\n",
    "##### Se ambos os critérios forem atendidos, a coluna pode ser uma chave primária."
   ]
  },
  {
   "cell_type": "markdown",
   "id": "af14ce0f-49f7-423e-9e7c-d83cceb8ec65",
   "metadata": {},
   "source": [
    "#### ✦ O que são chaves estrangeiras e como elas se relacionam com as chaves primárias?"
   ]
  },
  {
   "cell_type": "markdown",
   "id": "0e225911-3d7a-4ba6-934c-95bc578a96b4",
   "metadata": {},
   "source": [
    "Chaves estrangeiras são atributos em uma tabela que fazem referência à chave primária de outra tabela, criando uma conexão entre os dados. Elas garantem a integridade referencial no banco de dados.\n",
    "\n",
    "A relação entre chave estrangeira e chave primária se dá quando a chave estrangeira em uma tabela aponta para a chave primária de outra, estabelecendo um vínculo entre os registros dessas tabelas."
   ]
  },
  {
   "cell_type": "markdown",
   "id": "0b33c1b6-e96c-47e0-8411-159a428b7933",
   "metadata": {},
   "source": [
    "#### ✦ Explique como a relação entre duas tabelas com chaves primárias e estrangeiras pode ser representada com dataframes no Pandas."
   ]
  },
  {
   "cell_type": "markdown",
   "id": "3981cbc8-2193-4bc3-9bc7-f1b0253fca3e",
   "metadata": {},
   "source": [
    "No Pandas, cada tabela é representada por um DataFrame. Para representar a relação entre duas tabelas com chaves primárias e estrangeiras, usamos a função `merge()`. Essa função combina DataFrames com base em uma ou mais colunas compartilhadas."
   ]
  },
  {
   "cell_type": "code",
   "execution_count": null,
   "id": "5bb96317-ac25-4d59-89c4-4cbf689f6d48",
   "metadata": {},
   "outputs": [],
   "source": []
  }
 ],
 "metadata": {
  "kernelspec": {
   "display_name": "Python 3 (ipykernel)",
   "language": "python",
   "name": "python3"
  },
  "language_info": {
   "codemirror_mode": {
    "name": "ipython",
    "version": 3
   },
   "file_extension": ".py",
   "mimetype": "text/x-python",
   "name": "python",
   "nbconvert_exporter": "python",
   "pygments_lexer": "ipython3",
   "version": "3.12.4"
  }
 },
 "nbformat": 4,
 "nbformat_minor": 5
}
