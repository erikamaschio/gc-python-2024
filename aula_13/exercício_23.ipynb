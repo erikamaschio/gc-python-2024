{
 "cells": [
  {
   "cell_type": "markdown",
   "id": "8e20cabb-ff75-459a-a138-eabbda383fb9",
   "metadata": {},
   "source": [
    "### Atividade\n",
    "##### • A partir do dataset escolhido para trabalhar com os métodos supervisionados e a biblioteca scikitlearn do Python, realize as seguintes tarefas:\n",
    "##### 1. Identifique o atributo alvo.\n",
    "##### 2. Execute o algoritmo K-NN aplicando cross-validation (validação cruzada) para 10 KFolds.\n",
    "##### 3. Execute o algoritmo K-NN aplicando Holdout, dividindo o dataset em 30% para teste.\n",
    "##### 4. Altere o número de k para obter uma melhor acurácia na validação.\n",
    "##### 5. Analise e compare os resultados obtidos, utilizando a matriz de confusão e computando a acurácia."
   ]
  },
  {
   "cell_type": "code",
   "execution_count": 37,
   "id": "634363cc-b99d-4b5d-8072-d6f524085f58",
   "metadata": {},
   "outputs": [],
   "source": [
    "import pandas as pd\n",
    "from sklearn.model_selection import cross_val_score\n",
    "from sklearn.neighbors import KNeighborsClassifier\n",
    "from sklearn.model_selection import train_test_split\n",
    "from sklearn.preprocessing import LabelEncoder\n",
    "from sklearn.metrics import accuracy_score, confusion_matrix"
   ]
  },
  {
   "cell_type": "code",
   "execution_count": 21,
   "id": "260df893-22bb-4c08-83c6-218dfbfd9d43",
   "metadata": {},
   "outputs": [],
   "source": [
    "from sklearn.datasets import load_iris\n",
    "data = load_iris()"
   ]
  },
  {
   "cell_type": "code",
   "execution_count": 28,
   "id": "48fd9503-c768-43b6-9470-e7c6e2d4a164",
   "metadata": {},
   "outputs": [],
   "source": [
    "X = data.data  # Atributos (características das flores)\n",
    "y = data.target  # Atributo alvo (espécies das flores)"
   ]
  },
  {
   "cell_type": "code",
   "execution_count": 29,
   "id": "7cd01dad-4aa6-4de1-a561-80a3461674e3",
   "metadata": {},
   "outputs": [],
   "source": [
    "# Definir o modelo K-NN com k=5 (valor padrão)\n",
    "knn = KNeighborsClassifier(n_neighbors=5)"
   ]
  },
  {
   "cell_type": "code",
   "execution_count": 30,
   "id": "dd094f55-a0b6-4e06-8abe-8903ccf63838",
   "metadata": {},
   "outputs": [],
   "source": [
    "# Aplicando validação cruzada com 10 folds\n",
    "scores = cross_val_score(knn, X, y, cv=10)"
   ]
  },
  {
   "cell_type": "code",
   "execution_count": 31,
   "id": "8d979580-8dcd-4307-853e-4b696b4ed2e8",
   "metadata": {},
   "outputs": [],
   "source": [
    "# Dividindo o dataset (70% treino, 30% teste)\n",
    "X_train, X_test, y_train, y_test = train_test_split(X, y, test_size=0.3, random_state=42)"
   ]
  },
  {
   "cell_type": "code",
   "execution_count": 38,
   "id": "24ff2f92-fb60-40c2-8c6c-ddbec2a9995b",
   "metadata": {},
   "outputs": [],
   "source": [
    "# Treinando o modelo K-NN\n",
    "knn.fit(X_train, y_train)\n",
    "\n",
    "# Realizando as previsões no conjunto de teste\n",
    "y_pred = knn.predict(X_test)\n",
    "\n",
    "# Acurácia e matriz de confusão\n",
    "accuracy = accuracy_score(y_test, y_pred)\n",
    "conf_matrix = confusion_matrix(y_test, y_pred)"
   ]
  },
  {
   "cell_type": "code",
   "execution_count": 39,
   "id": "1d8776c7-89bc-4e03-83a3-80b29fc61442",
   "metadata": {},
   "outputs": [
    {
     "name": "stdout",
     "output_type": "stream",
     "text": [
      "Melhor valor de k: 1\n",
      "Melhor acurácia: 1.0\n"
     ]
    }
   ],
   "source": [
    "# Testando diferentes valores de k\n",
    "k_values = range(1, 21)  # Testando k de 1 a 20\n",
    "accuracies = []\n",
    "\n",
    "for k in k_values:\n",
    "    knn = KNeighborsClassifier(n_neighbors=k)\n",
    "    knn.fit(X_train, y_train)\n",
    "    y_pred = knn.predict(X_test)\n",
    "    accuracy = accuracy_score(y_test, y_pred)\n",
    "    accuracies.append(accuracy)\n",
    "\n",
    "# Encontrando o melhor k\n",
    "best_k = k_values[np.argmax(accuracies)]\n",
    "best_accuracy = max(accuracies)\n",
    "\n",
    "print(f\"Melhor valor de k: {best_k}\")\n",
    "print(f\"Melhor acurácia: {best_accuracy}\")"
   ]
  },
  {
   "cell_type": "code",
   "execution_count": 40,
   "id": "278bddcc-30a7-4734-938f-657a86b4d81f",
   "metadata": {},
   "outputs": [
    {
     "name": "stdout",
     "output_type": "stream",
     "text": [
      "Acurácia com o melhor k (1): 1.0\n",
      "Matriz de Confusão com o melhor k:\n",
      "[[19  0  0]\n",
      " [ 0 13  0]\n",
      " [ 0  0 13]]\n"
     ]
    }
   ],
   "source": [
    "# Com o melhor k encontrado, treinando o modelo novamente\n",
    "knn_best = KNeighborsClassifier(n_neighbors=best_k)\n",
    "knn_best.fit(X_train, y_train)\n",
    "y_pred_best = knn_best.predict(X_test)\n",
    "\n",
    "# Acurácia e matriz de confusão para o melhor k\n",
    "accuracy_best = accuracy_score(y_test, y_pred_best)\n",
    "conf_matrix_best = confusion_matrix(y_test, y_pred_best)\n",
    "\n",
    "print(f\"Acurácia com o melhor k ({best_k}): {accuracy_best}\")\n",
    "print(f\"Matriz de Confusão com o melhor k:\\n{conf_matrix_best}\")"
   ]
  },
  {
   "cell_type": "code",
   "execution_count": null,
   "id": "202b0db4-6ac2-49c9-92ca-8d9d14f37f37",
   "metadata": {},
   "outputs": [],
   "source": []
  }
 ],
 "metadata": {
  "kernelspec": {
   "display_name": "Python 3 (ipykernel)",
   "language": "python",
   "name": "python3"
  },
  "language_info": {
   "codemirror_mode": {
    "name": "ipython",
    "version": 3
   },
   "file_extension": ".py",
   "mimetype": "text/x-python",
   "name": "python",
   "nbconvert_exporter": "python",
   "pygments_lexer": "ipython3",
   "version": "3.12.4"
  }
 },
 "nbformat": 4,
 "nbformat_minor": 5
}
