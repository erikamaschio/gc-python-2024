{
 "cells": [
  {
   "cell_type": "markdown",
   "id": "20db8c4d-bcbe-453c-8e14-23a4a9c7aa6b",
   "metadata": {},
   "source": [
    "### Exercício 08 – miniBoss – Coop –\n",
    "#### ✦ Leia o arquivo do datase em csv;\n",
    "#### ✦ Visualize as primeiras linhas do dataset;\n",
    "#### ✦ Visualize informações básicas do dataset, como: nomes das colunas, número de linhas, número de campos nulos, etc;"
   ]
  },
  {
   "cell_type": "code",
   "execution_count": 43,
   "id": "5f9fd7ad-da2e-4bd0-aebf-4144fc40f4c3",
   "metadata": {},
   "outputs": [
    {
     "name": "stdout",
     "output_type": "stream",
     "text": [
      "     show_id     type                                  title  \\\n",
      "0         s1    Movie                   Dick Johnson Is Dead   \n",
      "1         s2  TV Show                          Blood & Water   \n",
      "2         s3  TV Show                              Ganglands   \n",
      "3         s4  TV Show                  Jailbirds New Orleans   \n",
      "4         s5  TV Show                           Kota Factory   \n",
      "...      ...      ...                                    ...   \n",
      "8812   s5202    Movie  Joan Didion: The Center Will Not Hold   \n",
      "8813   s2914    Movie                                Fanatyk   \n",
      "8814   s3710    Movie                                  ANIMA   \n",
      "8815    s516  TV Show                            Derry Girls   \n",
      "8816   s2827  TV Show                            On My Block   \n",
      "\n",
      "                  director                                               cast  \\\n",
      "0          Kirsten Johnson                                                NaN   \n",
      "1                      NaN  Ama Qamata, Khosi Ngema, Gail Mabalane, Thaban...   \n",
      "2          Julien Leclercq  Sami Bouajila, Tracy Gotoas, Samuel Jouy, Nabi...   \n",
      "3                      NaN                                                NaN   \n",
      "4                      NaN  Mayur More, Jitendra Kumar, Ranjan Raj, Alam K...   \n",
      "...                    ...                                                ...   \n",
      "8812         Griffin Dunne                                        Joan Didion   \n",
      "8813          Michał Tylka  Piotr Cyrwus, Mikołaj Kubacki, Anna Radwan, Ma...   \n",
      "8814  Paul Thomas Anderson                                         Thom Yorke   \n",
      "8815                   NaN  Saoirse-Monica Jackson, Nicola Coughlan, Louis...   \n",
      "8816                   NaN  Sierra Capri, Jason Genao, Brett Gray, Diego T...   \n",
      "\n",
      "             country          date_added  release_year rating   duration  \\\n",
      "0      United States  September 25, 2021          2020  PG-13     90 min   \n",
      "1       South Africa  September 24, 2021          2021  TV-MA  2 Seasons   \n",
      "2                NaN  September 24, 2021          2021  TV-MA   1 Season   \n",
      "3                NaN  September 24, 2021          2021  TV-MA   1 Season   \n",
      "4              India  September 24, 2021          2021  TV-MA  2 Seasons   \n",
      "...              ...                 ...           ...    ...        ...   \n",
      "8812   United States    October 27, 2017          2017  TV-14     98 min   \n",
      "8813          Poland   February 14, 2020          2017  TV-MA     33 min   \n",
      "8814  United Kingdom       June 27, 2019          2019  TV-PG     15 min   \n",
      "8815  United Kingdom        July 6, 2021          2019  TV-MA  2 Seasons   \n",
      "8816   United States      March 11, 2020          2020  TV-14  3 Seasons   \n",
      "\n",
      "                                              listed_in  \\\n",
      "0                                         Documentaries   \n",
      "1       International TV Shows, TV Dramas, TV Mysteries   \n",
      "2     Crime TV Shows, International TV Shows, TV Act...   \n",
      "3                                Docuseries, Reality TV   \n",
      "4     International TV Shows, Romantic TV Shows, TV ...   \n",
      "...                                                 ...   \n",
      "8812                                      Documentaries   \n",
      "8813               Comedies, Dramas, Independent Movies   \n",
      "8814       Dramas, Independent Movies, Music & Musicals   \n",
      "8815  British TV Shows, International TV Shows, TV C...   \n",
      "8816          Romantic TV Shows, TV Comedies, TV Dramas   \n",
      "\n",
      "                                            description  \n",
      "0     As her father nears the end of his life, filmm...  \n",
      "1     After crossing paths at a party, a Cape Town t...  \n",
      "2     To protect his family from a powerful drug lor...  \n",
      "3     Feuds, flirtations and toilet talk go down amo...  \n",
      "4     In a city of coaching centers known to train I...  \n",
      "...                                                 ...  \n",
      "8812  Literary icon Joan Didion reflects on her rema...  \n",
      "8813  As a son deals with his own struggles, he must...  \n",
      "8814  In a short musical film directed by Paul Thoma...  \n",
      "8815  Amidst the political conflict of Northern Irel...  \n",
      "8816  In a rough inner-city Los Angeles neighborhood...  \n",
      "\n",
      "[8817 rows x 12 columns]\n"
     ]
    }
   ],
   "source": [
    "import pandas as pd\n",
    "\n",
    "df = pd.read_csv('netflix.csv')\n",
    "print(df)"
   ]
  },
  {
   "cell_type": "code",
   "execution_count": 44,
   "id": "760a3ace-396f-4871-ac26-593e12187ee7",
   "metadata": {},
   "outputs": [
    {
     "name": "stdout",
     "output_type": "stream",
     "text": [
      "  show_id     type                  title         director  \\\n",
      "0      s1    Movie   Dick Johnson Is Dead  Kirsten Johnson   \n",
      "1      s2  TV Show          Blood & Water              NaN   \n",
      "2      s3  TV Show              Ganglands  Julien Leclercq   \n",
      "3      s4  TV Show  Jailbirds New Orleans              NaN   \n",
      "4      s5  TV Show           Kota Factory              NaN   \n",
      "\n",
      "                                                cast        country  \\\n",
      "0                                                NaN  United States   \n",
      "1  Ama Qamata, Khosi Ngema, Gail Mabalane, Thaban...   South Africa   \n",
      "2  Sami Bouajila, Tracy Gotoas, Samuel Jouy, Nabi...            NaN   \n",
      "3                                                NaN            NaN   \n",
      "4  Mayur More, Jitendra Kumar, Ranjan Raj, Alam K...          India   \n",
      "\n",
      "           date_added  release_year rating   duration  \\\n",
      "0  September 25, 2021          2020  PG-13     90 min   \n",
      "1  September 24, 2021          2021  TV-MA  2 Seasons   \n",
      "2  September 24, 2021          2021  TV-MA   1 Season   \n",
      "3  September 24, 2021          2021  TV-MA   1 Season   \n",
      "4  September 24, 2021          2021  TV-MA  2 Seasons   \n",
      "\n",
      "                                           listed_in  \\\n",
      "0                                      Documentaries   \n",
      "1    International TV Shows, TV Dramas, TV Mysteries   \n",
      "2  Crime TV Shows, International TV Shows, TV Act...   \n",
      "3                             Docuseries, Reality TV   \n",
      "4  International TV Shows, Romantic TV Shows, TV ...   \n",
      "\n",
      "                                         description  \n",
      "0  As her father nears the end of his life, filmm...  \n",
      "1  After crossing paths at a party, a Cape Town t...  \n",
      "2  To protect his family from a powerful drug lor...  \n",
      "3  Feuds, flirtations and toilet talk go down amo...  \n",
      "4  In a city of coaching centers known to train I...  \n"
     ]
    }
   ],
   "source": [
    "df = pd.read_csv('netflix.csv')\n",
    "print(df.head())"
   ]
  },
  {
   "cell_type": "code",
   "execution_count": 42,
   "id": "bb261b8d-8d60-4e56-9e58-536d41192530",
   "metadata": {},
   "outputs": [
    {
     "name": "stdout",
     "output_type": "stream",
     "text": [
      "Nome das colunas:  Index(['show_id', 'type', 'title', 'director', 'cast', 'country', 'date_added',\n",
      "       'release_year', 'rating', 'duration', 'listed_in', 'description'],\n",
      "      dtype='object')\n",
      "\n",
      "Número de linhas e colunas:  (8817, 12)\n",
      "\n",
      "Valores nulos por colunas: \n",
      " show_id            0\n",
      "type               0\n",
      "title              0\n",
      "director        2638\n",
      "cast             825\n",
      "country          832\n",
      "date_added        10\n",
      "release_year       0\n",
      "rating             4\n",
      "duration           3\n",
      "listed_in          0\n",
      "description        0\n",
      "dtype: int64\n"
     ]
    }
   ],
   "source": [
    "df = pd.read_csv('netflix.csv')\n",
    "\n",
    "print(\"Nome das colunas: \", df.columns)\n",
    "print(\"\\nNúmero de linhas e colunas: \", df.shape)\n",
    "print(\"\\nValores nulos por colunas: \\n\", df.isnull().sum())"
   ]
  },
  {
   "cell_type": "markdown",
   "id": "d4c1cca4-ba54-40eb-a38f-4621fbc1d289",
   "metadata": {},
   "source": [
    "#### ✦ Visualize informações sobre os campos numéricos do dataset, como: média, valor minimo e maximo, etc;\n",
    "#### ✦ Remova informações nulas;\n",
    "#### ✦ Verifique se existem dados duplicados;\n",
    "#### ✦ Remova informações duplicadas;\n",
    "#### ✦ Remova as colunas 'listed_in' e 'duration'."
   ]
  },
  {
   "cell_type": "code",
   "execution_count": 47,
   "id": "11db0451-0b36-43e0-b8b5-99084fde143d",
   "metadata": {},
   "outputs": [
    {
     "name": "stdout",
     "output_type": "stream",
     "text": [
      "       release_year\n",
      "count   8817.000000\n",
      "mean    2014.180333\n",
      "std        8.817990\n",
      "min     1925.000000\n",
      "25%     2013.000000\n",
      "50%     2017.000000\n",
      "75%     2019.000000\n",
      "max     2021.000000\n"
     ]
    }
   ],
   "source": [
    "df = pd.read_csv('netflix.csv')\n",
    "\n",
    "numeric_cols = df.select_dtypes(include= ['number'])\n",
    "print(numeric_cols.describe())"
   ]
  },
  {
   "cell_type": "code",
   "execution_count": null,
   "id": "a9f0bd50-3b7a-47ea-b326-e67173d42ee4",
   "metadata": {},
   "outputs": [],
   "source": []
  }
 ],
 "metadata": {
  "kernelspec": {
   "display_name": "Python 3 (ipykernel)",
   "language": "python",
   "name": "python3"
  },
  "language_info": {
   "codemirror_mode": {
    "name": "ipython",
    "version": 3
   },
   "file_extension": ".py",
   "mimetype": "text/x-python",
   "name": "python",
   "nbconvert_exporter": "python",
   "pygments_lexer": "ipython3",
   "version": "3.12.4"
  }
 },
 "nbformat": 4,
 "nbformat_minor": 5
}
