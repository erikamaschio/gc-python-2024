{
 "cells": [
  {
   "cell_type": "markdown",
   "id": "ce8b17cc-1d83-49d6-b0da-adbb48d71ad9",
   "metadata": {},
   "source": [
    "## Exercício 05"
   ]
  },
  {
   "cell_type": "markdown",
   "id": "2d4541cb-9ebc-47c1-8352-01a13f048e29",
   "metadata": {},
   "source": [
    "#### ✦ Crie uma lista com 5 nomes de filmes que você goste.\n",
    "#### ✦ Crie uma 2ª lista com o ano de lançamento desses 5 filmes (pode pesquisar, eu deixo). Tranforme isso em um dataframe;\n",
    "#### ✦ Adicione uma nova coluna com a nota, de 1 a 10, de quanto você gosta deles;"
   ]
  },
  {
   "cell_type": "code",
   "execution_count": 2,
   "id": "7c36ebdd-282f-4cac-a493-24eb79b06f82",
   "metadata": {},
   "outputs": [
    {
     "name": "stdout",
     "output_type": "stream",
     "text": [
      "                            Filmes  Ano de lançamento\n",
      "0  Como perder um homem em 10 dias               2003\n",
      "1                    Trainspotting               1996\n",
      "2                            Mid90               2018\n",
      "3                       Buffalo 66               1998\n",
      "4            Sobre lobos e meninos               2003\n"
     ]
    }
   ],
   "source": [
    "import pandas as pd\n",
    "\n",
    "filmes = ['Como perder um homem em 10 dias', 'Trainspotting', 'Mid90', 'Buffalo 66', 'Sobre lobos e meninos']\n",
    "ano_lancamento = [2003, 1996, 2018, 1998, 2003]\n",
    "\n",
    "dados_filmes = pd.DataFrame ({\n",
    "    'Filmes' : filmes,\n",
    "    'Ano de lançamento' : ano_lancamento,\n",
    "})\n",
    "\n",
    "print(dados_filmes)"
   ]
  },
  {
   "cell_type": "code",
   "execution_count": 3,
   "id": "36be90eb-3afd-46fb-ae6c-87bd5da6fefc",
   "metadata": {},
   "outputs": [
    {
     "name": "stdout",
     "output_type": "stream",
     "text": [
      "                            Filmes  Ano de lançamento  Notas\n",
      "0  Como perder um homem em 10 dias               2003     10\n",
      "1                    Trainspotting               1996      9\n",
      "2                            Mid90               2018      9\n",
      "3                       Buffalo 66               1998     10\n",
      "4            Sobre lobos e meninos               2003     10\n"
     ]
    }
   ],
   "source": [
    "notas_filmes = [10, 9, 9, 10, 10]\n",
    "\n",
    "dados_filmes['Notas'] = notas_filmes\n",
    "print(dados_filmes)"
   ]
  },
  {
   "cell_type": "markdown",
   "id": "24fc34c4-4ee6-49ca-ab83-05f28f1c9703",
   "metadata": {},
   "source": [
    "#### ✦ Crie mais 2 dataframes, de séries e anime/desenhos que você gosta, com as mesmas colunas acima.\n",
    "#### ✦ Salve os 3 dataframes em 'csv', 'json' e 'html' e nos envie os arquivos.\n",
    "#### ✦ Concatene horizontalmente os 3 dataframes, ficando 9 colunas no final"
   ]
  },
  {
   "cell_type": "code",
   "execution_count": 4,
   "id": "f0a676fa-d0fb-4607-a03a-b1773a6d7880",
   "metadata": {},
   "outputs": [
    {
     "name": "stdout",
     "output_type": "stream",
     "text": [
      "           Séries  Ano de lançamento  Notas\n",
      "0    Breaking Bad               2008     10\n",
      "1         Friends               1994      9\n",
      "2  Peaky Blinders               2013     10\n",
      "3            Dark               2017     10\n",
      "4      The Office               2005      9\n"
     ]
    }
   ],
   "source": [
    "series = ['Breaking Bad', 'Friends', 'Peaky Blinders', 'Dark', 'The Office']\n",
    "ano_lancamento = [2008, 1994, 2013, 2017, 2005]\n",
    "notas = [10, 9, 10, 10, 9]\n",
    "\n",
    "dados_series = pd.DataFrame ({\n",
    "    'Séries' : series,\n",
    "    'Ano de lançamento' : ano_lancamento,\n",
    "    'Notas' : notas\n",
    "})\n",
    "\n",
    "print(dados_series)"
   ]
  },
  {
   "cell_type": "code",
   "execution_count": 5,
   "id": "06c15c9f-1bfc-47b0-ab7d-9d009ff7a064",
   "metadata": {},
   "outputs": [
    {
     "name": "stdout",
     "output_type": "stream",
     "text": [
      "           Desenhos  Ano de lançamento  Notas\n",
      "0          Coraline               2009     10\n",
      "1    Por Água Baixo               2006      9\n",
      "2             Shrek               2001     10\n",
      "3   A Noiva Cadáver               2005     10\n",
      "4  Os Sem Florestas               2006      9\n"
     ]
    }
   ],
   "source": [
    "desenhos = ['Coraline', 'Por Água Baixo', 'Shrek', 'A Noiva Cadáver', 'Os Sem Florestas']\n",
    "ano_lancamento = [2009, 2006, 2001, 2005, 2006]\n",
    "notas = [10, 9, 10, 10, 9]\n",
    "\n",
    "dados_desenhos = pd.DataFrame({\n",
    "    'Desenhos' : desenhos,\n",
    "    'Ano de lançamento' : ano_lancamento,\n",
    "    'Notas' : notas,\n",
    "})\n",
    "\n",
    "print(dados_desenhos)"
   ]
  },
  {
   "cell_type": "code",
   "execution_count": 8,
   "id": "53134e3c-9a47-4697-a5e6-ee18a39f20d7",
   "metadata": {},
   "outputs": [],
   "source": [
    "dados_filmes.to_csv('filmes.csv')\n",
    "dados_filmes.to_json('filmes.json')\n",
    "dados_filmes.to_html('filmes.html')"
   ]
  },
  {
   "cell_type": "code",
   "execution_count": 9,
   "id": "5fbcc5d1-411d-4b61-aae3-5878992e1dcd",
   "metadata": {},
   "outputs": [],
   "source": [
    "dados_series.to_csv('series.csv')\n",
    "dados_series.to_json('series.json')\n",
    "dados_series.to_html('series.html')"
   ]
  },
  {
   "cell_type": "code",
   "execution_count": 10,
   "id": "427f58e8-18bf-44a1-aa00-9cf6f0ec2d1c",
   "metadata": {},
   "outputs": [],
   "source": [
    "dados_desenhos.to_csv('desenhos.csv')\n",
    "dados_desenhos.to_json('desenhos.json')\n",
    "dados_desenhos.to_html('desenhos.html')"
   ]
  },
  {
   "cell_type": "code",
   "execution_count": 7,
   "id": "75f35327-df1c-4e2d-9650-ec0a9afb30c5",
   "metadata": {},
   "outputs": [
    {
     "data": {
      "text/html": [
       "<div>\n",
       "<style scoped>\n",
       "    .dataframe tbody tr th:only-of-type {\n",
       "        vertical-align: middle;\n",
       "    }\n",
       "\n",
       "    .dataframe tbody tr th {\n",
       "        vertical-align: top;\n",
       "    }\n",
       "\n",
       "    .dataframe thead th {\n",
       "        text-align: right;\n",
       "    }\n",
       "</style>\n",
       "<table border=\"1\" class=\"dataframe\">\n",
       "  <thead>\n",
       "    <tr style=\"text-align: right;\">\n",
       "      <th></th>\n",
       "      <th>Filmes</th>\n",
       "      <th>Ano de lançamento</th>\n",
       "      <th>Notas</th>\n",
       "      <th>Séries</th>\n",
       "      <th>Ano de lançamento</th>\n",
       "      <th>Notas</th>\n",
       "      <th>Desenhos</th>\n",
       "      <th>Ano de lançamento</th>\n",
       "      <th>Notas</th>\n",
       "    </tr>\n",
       "  </thead>\n",
       "  <tbody>\n",
       "    <tr>\n",
       "      <th>0</th>\n",
       "      <td>Como perder um homem em 10 dias</td>\n",
       "      <td>2003</td>\n",
       "      <td>10</td>\n",
       "      <td>Breaking Bad</td>\n",
       "      <td>2008</td>\n",
       "      <td>10</td>\n",
       "      <td>Coraline</td>\n",
       "      <td>2009</td>\n",
       "      <td>10</td>\n",
       "    </tr>\n",
       "    <tr>\n",
       "      <th>1</th>\n",
       "      <td>Trainspotting</td>\n",
       "      <td>1996</td>\n",
       "      <td>9</td>\n",
       "      <td>Friends</td>\n",
       "      <td>1994</td>\n",
       "      <td>9</td>\n",
       "      <td>Por Água Baixo</td>\n",
       "      <td>2006</td>\n",
       "      <td>9</td>\n",
       "    </tr>\n",
       "    <tr>\n",
       "      <th>2</th>\n",
       "      <td>Mid90</td>\n",
       "      <td>2018</td>\n",
       "      <td>9</td>\n",
       "      <td>Peaky Blinders</td>\n",
       "      <td>2013</td>\n",
       "      <td>10</td>\n",
       "      <td>Shrek</td>\n",
       "      <td>2001</td>\n",
       "      <td>10</td>\n",
       "    </tr>\n",
       "    <tr>\n",
       "      <th>3</th>\n",
       "      <td>Buffalo 66</td>\n",
       "      <td>1998</td>\n",
       "      <td>10</td>\n",
       "      <td>Dark</td>\n",
       "      <td>2017</td>\n",
       "      <td>10</td>\n",
       "      <td>A Noiva Cadáver</td>\n",
       "      <td>2005</td>\n",
       "      <td>10</td>\n",
       "    </tr>\n",
       "    <tr>\n",
       "      <th>4</th>\n",
       "      <td>Sobre lobos e meninos</td>\n",
       "      <td>2003</td>\n",
       "      <td>10</td>\n",
       "      <td>The Office</td>\n",
       "      <td>2005</td>\n",
       "      <td>9</td>\n",
       "      <td>Os Sem Florestas</td>\n",
       "      <td>2006</td>\n",
       "      <td>9</td>\n",
       "    </tr>\n",
       "  </tbody>\n",
       "</table>\n",
       "</div>"
      ],
      "text/plain": [
       "                            Filmes  Ano de lançamento  Notas          Séries  \\\n",
       "0  Como perder um homem em 10 dias               2003     10    Breaking Bad   \n",
       "1                    Trainspotting               1996      9         Friends   \n",
       "2                            Mid90               2018      9  Peaky Blinders   \n",
       "3                       Buffalo 66               1998     10            Dark   \n",
       "4            Sobre lobos e meninos               2003     10      The Office   \n",
       "\n",
       "   Ano de lançamento  Notas          Desenhos  Ano de lançamento  Notas  \n",
       "0               2008     10          Coraline               2009     10  \n",
       "1               1994      9    Por Água Baixo               2006      9  \n",
       "2               2013     10             Shrek               2001     10  \n",
       "3               2017     10   A Noiva Cadáver               2005     10  \n",
       "4               2005      9  Os Sem Florestas               2006      9  "
      ]
     },
     "execution_count": 7,
     "metadata": {},
     "output_type": "execute_result"
    }
   ],
   "source": [
    "filmes = ['Como perder um homem em 10 dias', 'Trainspotting', 'Mid90', 'Buffalo 66', 'Sobre lobos e meninos']\n",
    "ano_lancamento = [2003, 1996, 2018, 1998, 2003]\n",
    "\n",
    "dados_filmes = pd.DataFrame ({\n",
    "    'Filmes' : filmes,\n",
    "    'Ano de lançamento' : ano_lancamento,\n",
    "})\n",
    "notas_filmes = [10, 9, 9, 10, 10]\n",
    "\n",
    "dados_filmes['Notas'] = notas_filmes\n",
    "\n",
    "series = ['Breaking Bad', 'Friends', 'Peaky Blinders', 'Dark', 'The Office']\n",
    "ano_lancamento = [2008, 1994, 2013, 2017, 2005]\n",
    "notas = [10, 9, 10, 10, 9]\n",
    "\n",
    "dados_series = pd.DataFrame ({\n",
    "    'Séries' : series,\n",
    "    'Ano de lançamento' : ano_lancamento,\n",
    "    'Notas' : notas\n",
    "})\n",
    "\n",
    "desenhos = ['Coraline', 'Por Água Baixo', 'Shrek', 'A Noiva Cadáver', 'Os Sem Florestas']\n",
    "ano_lancamento = [2009, 2006, 2001, 2005, 2006]\n",
    "notas = [10, 9, 10, 10, 9]\n",
    "\n",
    "dados_desenhos = pd.DataFrame({\n",
    "    'Desenhos' : desenhos,\n",
    "    'Ano de lançamento' : ano_lancamento,\n",
    "    'Notas' : notas,\n",
    "})\n",
    "\n",
    "result = pd.concat([dados_filmes, dados_series, dados_desenhos], axis=1)\n",
    "(result)"
   ]
  },
  {
   "cell_type": "code",
   "execution_count": null,
   "id": "6960c2d9-70c8-46fa-9f02-4ab8e0bc9b9b",
   "metadata": {},
   "outputs": [],
   "source": []
  }
 ],
 "metadata": {
  "kernelspec": {
   "display_name": "Python 3 (ipykernel)",
   "language": "python",
   "name": "python3"
  },
  "language_info": {
   "codemirror_mode": {
    "name": "ipython",
    "version": 3
   },
   "file_extension": ".py",
   "mimetype": "text/x-python",
   "name": "python",
   "nbconvert_exporter": "python",
   "pygments_lexer": "ipython3",
   "version": "3.12.4"
  }
 },
 "nbformat": 4,
 "nbformat_minor": 5
}
