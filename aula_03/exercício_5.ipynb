{
 "cells": [
  {
   "cell_type": "markdown",
   "id": "2e7299e2-4818-4c45-ba32-ae0f8d23a8bf",
   "metadata": {},
   "source": [
    "## Exercício 5"
   ]
  },
  {
   "cell_type": "markdown",
   "id": "a7d3204a-52bc-45f3-8b57-6261c9f60d15",
   "metadata": {},
   "source": [
    "#### ✦ Crie uma lista com 5 nomes de filmes que você goste.\n",
    "#### ✦ Crie uma 2a lista com o ano de lançamento desses 5 filmes (pode pesquisar, eu deixo). Tranforme isso em um dataframe;\n",
    "#### ✦ Adicione uma nova coluna com a nota, de 1 a 10, de quanto você gosta deles;"
   ]
  },
  {
   "cell_type": "code",
   "execution_count": 4,
   "id": "b04c1ad7-d542-4826-89c2-072cf4165525",
   "metadata": {},
   "outputs": [
    {
     "name": "stdout",
     "output_type": "stream",
     "text": [
      "                            Filmes  Lançamento\n",
      "0  Como perder um homem em 10 dias        2003\n",
      "1                    Trainspotting        1996\n",
      "2                            Mid90        2018\n",
      "3                       Buffalo 66        1998\n",
      "4            Sobre lobos e meninos        2003\n"
     ]
    }
   ],
   "source": [
    "import pandas as pd \n",
    "\n",
    "filmes = ['Como perder um homem em 10 dias', 'Trainspotting', 'Mid90', 'Buffalo 66', 'Sobre lobos e meninos']\n",
    "ano_lancamento = [2003, 1996, 2018, 1998, 2003]\n",
    "\n",
    "dadosfilmes = pd.DataFrame ({\n",
    "    'Filmes' : filmes,\n",
    "    'Lançamento' : ano_lancamento\n",
    "})\n",
    "\n",
    "print(dadosfilmes)"
   ]
  },
  {
   "cell_type": "code",
   "execution_count": 6,
   "id": "15263069-29b0-44dc-8fe0-97750ee5c0b2",
   "metadata": {},
   "outputs": [
    {
     "name": "stdout",
     "output_type": "stream",
     "text": [
      "                            Filmes  Lançamento  Notas\n",
      "0  Como perder um homem em 10 dias        2003     10\n",
      "1                    Trainspotting        1996      9\n",
      "2                            Mid90        2018      9\n",
      "3                       Buffalo 66        1998     10\n",
      "4            Sobre lobos e meninos        2003     10\n"
     ]
    }
   ],
   "source": [
    "notas_filmes = [10,9,9,10,10]\n",
    "\n",
    "dadosfilmes['Notas'] = notas_filmes\n",
    "print (dadosfilmes)"
   ]
  },
  {
   "cell_type": "markdown",
   "id": "a1e17f7a-df0c-43ec-93e6-4fb7d34b15ba",
   "metadata": {},
   "source": [
    "#### ✦ Crie mais 2 dataframes, de séries e anime/desenhos que você gosta, com as mesmas colunas acima.\n",
    "#### ✦ Salve os 3 dataframes em 'csv', 'json' e 'html' e nos envie os arquivos.\n",
    "#### ✦ Concatene horizontalmente os 3 dataframes, ficando 9 colunas no final."
   ]
  },
  {
   "cell_type": "code",
   "execution_count": 7,
   "id": "912cd6de-4ae6-4aeb-aac5-93073af753b9",
   "metadata": {},
   "outputs": [
    {
     "name": "stdout",
     "output_type": "stream",
     "text": [
      "             Séries  Lançamento  Notas\n",
      "0      Breaking Bad        2008     10\n",
      "1           Friends        1994     10\n",
      "2              Dark        2017     10\n",
      "3  Peaking Blinders        2013     10\n",
      "4          Hannibal        2013      9\n"
     ]
    }
   ],
   "source": [
    "series = ['Breaking Bad', 'Friends', 'Dark', 'Peaking Blinders', 'Hannibal']\n",
    "ano_lancamento = [2008, 1994, 2017, 2013, 2013]\n",
    "notas_series = [10, 10, 10, 10, 9]\n",
    " \n",
    "dadosseries = pd.DataFrame ({\n",
    "    'Séries' : series,\n",
    "    'Lançamento' : ano_lancamento,\n",
    "    'Notas' : notas_series\n",
    "})\n",
    "\n",
    "print(dadosseries)"
   ]
  },
  {
   "cell_type": "code",
   "execution_count": 10,
   "id": "4b66f10d-a086-42c0-abb8-7f18b6b4011d",
   "metadata": {},
   "outputs": [
    {
     "name": "stdout",
     "output_type": "stream",
     "text": [
      "           Desenhos  Lançamento  Notas\n",
      "0          Coraline        2009     10\n",
      "1   Por Água Abaixo        2006      9\n",
      "2             Shrek        2001     10\n",
      "3   A Noiva Cadáver        2005     10\n",
      "4  Os Sem Florestas        2006      9\n"
     ]
    }
   ],
   "source": [
    "desenhos = ['Coraline', 'Por Água Abaixo', 'Shrek', 'A Noiva Cadáver', 'Os Sem Florestas']\n",
    "ano_lancamento = [2009, 2006, 2001, 2005, 2006]\n",
    "notas_desenhos = [10, 9, 10, 10, 9]\n",
    "\n",
    "dadosdesenhos = pd.DataFrame ({\n",
    "    'Desenhos' : desenhos,\n",
    "    'Lançamento' : ano_lancamento,\n",
    "    'Notas' : notas_desenhos\n",
    "})\n",
    "\n",
    "print(dadosdesenhos)"
   ]
  },
  {
   "cell_type": "code",
   "execution_count": 9,
   "id": "3697ed99-08cb-4844-a244-c61c993ce36d",
   "metadata": {},
   "outputs": [
    {
     "data": {
      "text/html": [
       "<div>\n",
       "<style scoped>\n",
       "    .dataframe tbody tr th:only-of-type {\n",
       "        vertical-align: middle;\n",
       "    }\n",
       "\n",
       "    .dataframe tbody tr th {\n",
       "        vertical-align: top;\n",
       "    }\n",
       "\n",
       "    .dataframe thead th {\n",
       "        text-align: right;\n",
       "    }\n",
       "</style>\n",
       "<table border=\"1\" class=\"dataframe\">\n",
       "  <thead>\n",
       "    <tr style=\"text-align: right;\">\n",
       "      <th></th>\n",
       "      <th>Filmes</th>\n",
       "      <th>Lançamento</th>\n",
       "      <th>Notas</th>\n",
       "      <th>Séries</th>\n",
       "      <th>Lançamento</th>\n",
       "      <th>Notas</th>\n",
       "      <th>Desenhos</th>\n",
       "      <th>Lançamento</th>\n",
       "      <th>Notas</th>\n",
       "    </tr>\n",
       "  </thead>\n",
       "  <tbody>\n",
       "    <tr>\n",
       "      <th>0</th>\n",
       "      <td>Como perder um homem em 10 dias</td>\n",
       "      <td>2009</td>\n",
       "      <td>10</td>\n",
       "      <td>Breaking Bad</td>\n",
       "      <td>2009</td>\n",
       "      <td>10</td>\n",
       "      <td>Coraline</td>\n",
       "      <td>2009</td>\n",
       "      <td>10</td>\n",
       "    </tr>\n",
       "    <tr>\n",
       "      <th>1</th>\n",
       "      <td>Trainspotting</td>\n",
       "      <td>2006</td>\n",
       "      <td>9</td>\n",
       "      <td>Friends</td>\n",
       "      <td>2006</td>\n",
       "      <td>10</td>\n",
       "      <td>Por Água Abaixo</td>\n",
       "      <td>2006</td>\n",
       "      <td>9</td>\n",
       "    </tr>\n",
       "    <tr>\n",
       "      <th>2</th>\n",
       "      <td>Mid90</td>\n",
       "      <td>2001</td>\n",
       "      <td>9</td>\n",
       "      <td>Dark</td>\n",
       "      <td>2001</td>\n",
       "      <td>10</td>\n",
       "      <td>Shrek</td>\n",
       "      <td>2001</td>\n",
       "      <td>10</td>\n",
       "    </tr>\n",
       "    <tr>\n",
       "      <th>3</th>\n",
       "      <td>Buffalo 66</td>\n",
       "      <td>2005</td>\n",
       "      <td>10</td>\n",
       "      <td>Peaking Blinders</td>\n",
       "      <td>2005</td>\n",
       "      <td>10</td>\n",
       "      <td>A Noiva Cadáver</td>\n",
       "      <td>2005</td>\n",
       "      <td>10</td>\n",
       "    </tr>\n",
       "    <tr>\n",
       "      <th>4</th>\n",
       "      <td>Sobre lobos e meninos</td>\n",
       "      <td>2006</td>\n",
       "      <td>10</td>\n",
       "      <td>Hannibal</td>\n",
       "      <td>2006</td>\n",
       "      <td>9</td>\n",
       "      <td>Os Sem Florestas</td>\n",
       "      <td>2006</td>\n",
       "      <td>9</td>\n",
       "    </tr>\n",
       "  </tbody>\n",
       "</table>\n",
       "</div>"
      ],
      "text/plain": [
       "                            Filmes  Lançamento  Notas            Séries  \\\n",
       "0  Como perder um homem em 10 dias        2009     10      Breaking Bad   \n",
       "1                    Trainspotting        2006      9           Friends   \n",
       "2                            Mid90        2001      9              Dark   \n",
       "3                       Buffalo 66        2005     10  Peaking Blinders   \n",
       "4            Sobre lobos e meninos        2006     10          Hannibal   \n",
       "\n",
       "   Lançamento  Notas          Desenhos  Lançamento  Notas  \n",
       "0        2009     10          Coraline        2009     10  \n",
       "1        2006     10   Por Água Abaixo        2006      9  \n",
       "2        2001     10             Shrek        2001     10  \n",
       "3        2005     10   A Noiva Cadáver        2005     10  \n",
       "4        2006      9  Os Sem Florestas        2006      9  "
      ]
     },
     "execution_count": 9,
     "metadata": {},
     "output_type": "execute_result"
    }
   ],
   "source": [
    "dadosfilmes = pd.DataFrame ({\n",
    "    'Filmes' : filmes,\n",
    "    'Lançamento' : ano_lancamento\n",
    "})\n",
    "\n",
    "notas_filmes = [10,9,9,10,10]\n",
    "\n",
    "dadosfilmes['Notas'] = notas_filmes\n",
    "\n",
    "dadosseries = pd.DataFrame ({\n",
    "    'Séries' : series,\n",
    "    'Lançamento' : ano_lancamento,\n",
    "    'Notas' : notas_series\n",
    "})\n",
    "\n",
    "dadosdesenhos = pd.DataFrame ({\n",
    "    'Desenhos' : desenhos,\n",
    "    'Lançamento' : ano_lancamento,\n",
    "    'Notas' : notas_desenhos\n",
    "})\n",
    "\n",
    "result = pd.concat ([dadosfilmes, dadosseries, dadosdesenhos], axis=1)\n",
    "(result)"
   ]
  },
  {
   "cell_type": "code",
   "execution_count": 9,
   "id": "e9e17c96-b312-415f-8120-1a3b9db75a78",
   "metadata": {},
   "outputs": [],
   "source": [
    "dadosfilmes.to_csv('filmes.csv')\n",
    "dadosfilmes.to_json('filmes.json')\n",
    "dadosfilmes.to_html('filmes.html')"
   ]
  },
  {
   "cell_type": "code",
   "execution_count": 10,
   "id": "220798ec-f6e3-47f5-8be4-56c24fac303f",
   "metadata": {},
   "outputs": [],
   "source": [
    "dadosseries.to_csv('series.csv')\n",
    "dadosseries.to_json('series.json')\n",
    "dadosseries.to_html('series.html')"
   ]
  },
  {
   "cell_type": "code",
   "execution_count": 11,
   "id": "35ff115a-bb95-4661-a299-2b02c9351ca4",
   "metadata": {},
   "outputs": [],
   "source": [
    "dadosdesenhos.to_csv('desenhos.csv')\n",
    "dadosdesenhos.to_json('desenhos.json')\n",
    "dadosdesenhos.to_html('desenhos.html')"
   ]
  }
 ],
 "metadata": {
  "kernelspec": {
   "display_name": "Python 3 (ipykernel)",
   "language": "python",
   "name": "python3"
  },
  "language_info": {
   "codemirror_mode": {
    "name": "ipython",
    "version": 3
   },
   "file_extension": ".py",
   "mimetype": "text/x-python",
   "name": "python",
   "nbconvert_exporter": "python",
   "pygments_lexer": "ipython3",
   "version": "3.12.4"
  }
 },
 "nbformat": 4,
 "nbformat_minor": 5
}
