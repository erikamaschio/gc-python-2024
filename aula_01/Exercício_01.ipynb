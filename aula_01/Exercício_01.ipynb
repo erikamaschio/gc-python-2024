{
 "cells": [
  {
   "cell_type": "markdown",
   "id": "0f970cbd-d1ff-41af-92b4-55e0d11daca7",
   "metadata": {},
   "source": [
    "## Exercício 01\n",
    "### Crie um programa que leia seu nome e imprima na tela."
   ]
  },
  {
   "cell_type": "code",
   "execution_count": 1,
   "id": "495a0333-8db3-4cd8-b0d5-2e799460307b",
   "metadata": {},
   "outputs": [
    {
     "name": "stdin",
     "output_type": "stream",
     "text": [
      "Digite seu nome: Erika\n"
     ]
    },
    {
     "name": "stdout",
     "output_type": "stream",
     "text": [
      "Erika\n"
     ]
    }
   ],
   "source": [
    "nome = input('Digite seu nome:')\n",
    "\n",
    "print(nome)"
   ]
  }
 ],
 "metadata": {
  "kernelspec": {
   "display_name": "Python 3 (ipykernel)",
   "language": "python",
   "name": "python3"
  },
  "language_info": {
   "codemirror_mode": {
    "name": "ipython",
    "version": 3
   },
   "file_extension": ".py",
   "mimetype": "text/x-python",
   "name": "python",
   "nbconvert_exporter": "python",
   "pygments_lexer": "ipython3",
   "version": "3.12.4"
  }
 },
 "nbformat": 4,
 "nbformat_minor": 5
}
