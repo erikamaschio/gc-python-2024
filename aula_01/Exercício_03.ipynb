{
 "cells": [
  {
   "cell_type": "markdown",
   "id": "1caa9cb2-0af1-4789-b891-ea278ff806b2",
   "metadata": {},
   "source": [
    "### Exercício 03\n",
    "#### Crie um programa que leia 3 números, imprima o maior, o menor e a média aritmética."
   ]
  },
  {
   "cell_type": "code",
   "execution_count": 1,
   "id": "a0e02266-bb65-4dcc-b0c0-daf21a35663c",
   "metadata": {},
   "outputs": [
    {
     "name": "stdin",
     "output_type": "stream",
     "text": [
      "Digite o primeiro número:  20\n",
      "Digite o segundo número:  90\n",
      "Digite o terceiro número:  59\n"
     ]
    },
    {
     "name": "stdout",
     "output_type": "stream",
     "text": [
      "O maior número é: 90.0\n",
      "O menor número é: 20.0\n",
      "A média aritmética é: 56.333333333333336\n"
     ]
    }
   ],
   "source": [
    "num1 = (float(input('Digite o primeiro número: ')))\n",
    "num2 = (float(input('Digite o segundo número: ')))\n",
    "num3 = (float(input('Digite o terceiro número: ')))\n",
    "\n",
    "maior = max(num1, num2, num3)\n",
    "menor = min(num1, num2, num3)\n",
    "media = (num1 + num2 + num3) / 3\n",
    "\n",
    "print('O maior número é:', maior)\n",
    "print('O menor número é:', menor)\n",
    "print('A média aritmética é:', media)"
   ]
  }
 ],
 "metadata": {
  "kernelspec": {
   "display_name": "Python 3 (ipykernel)",
   "language": "python",
   "name": "python3"
  },
  "language_info": {
   "codemirror_mode": {
    "name": "ipython",
    "version": 3
   },
   "file_extension": ".py",
   "mimetype": "text/x-python",
   "name": "python",
   "nbconvert_exporter": "python",
   "pygments_lexer": "ipython3",
   "version": "3.12.4"
  }
 },
 "nbformat": 4,
 "nbformat_minor": 5
}
