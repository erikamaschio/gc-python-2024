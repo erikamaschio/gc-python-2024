{
 "cells": [
  {
   "cell_type": "code",
   "execution_count": 1,
   "id": "7c3b72c5-0d45-486f-96f0-137ab73e071f",
   "metadata": {},
   "outputs": [
    {
     "name": "stdin",
     "output_type": "stream",
     "text": [
      "Digite seu nome: Erika\n"
     ]
    },
    {
     "name": "stdout",
     "output_type": "stream",
     "text": [
      "Erika\n"
     ]
    }
   ],
   "source": [
    "#Exercicio 1\n",
    "\n",
    "nome = input('Digite seu nome:')\n",
    "\n",
    "print(nome)"
   ]
  },
  {
   "cell_type": "code",
   "execution_count": 2,
   "id": "d0b32cde-2580-4be0-b272-2807f9da0f94",
   "metadata": {},
   "outputs": [
    {
     "name": "stdin",
     "output_type": "stream",
     "text": [
      "Digite o primeiro número:  12\n",
      "Digite o segundo número:  90\n"
     ]
    },
    {
     "name": "stdout",
     "output_type": "stream",
     "text": [
      "A soma dos números é: 102.0\n"
     ]
    }
   ],
   "source": [
    "#Exercicio 2\n",
    "\n",
    "num1 = (float(input('Digite o primeiro número: ')))\n",
    "num2 = (float(input('Digite o segundo número: ')))\n",
    "\n",
    "soma = num1 + num2\n",
    "\n",
    "print('A soma dos números é:', soma)"
   ]
  },
  {
   "cell_type": "code",
   "execution_count": 3,
   "id": "e86273bf-9bd2-40c5-80ad-22998af89729",
   "metadata": {
    "scrolled": true
   },
   "outputs": [
    {
     "name": "stdin",
     "output_type": "stream",
     "text": [
      "Digite o primeiro número:  12\n",
      "Digite o segundo número:  90\n",
      "Digite o terceiro número:  67\n"
     ]
    },
    {
     "name": "stdout",
     "output_type": "stream",
     "text": [
      "O maior número é: 90.0\n",
      "O menor número é: 12.0\n",
      "A média aritmética é: 56.333333333333336\n"
     ]
    }
   ],
   "source": [
    "#Exercicio 3\n",
    "num1 = (float(input('Digite o primeiro número: ')))\n",
    "num2 = (float(input('Digite o segundo número: ')))\n",
    "num3 = (float(input('Digite o terceiro número: ')))\n",
    "\n",
    "maior = max(num1, num2, num3)\n",
    "menor = min(num1, num2, num3)\n",
    "media = (num1 + num2 + num3) / 3\n",
    "\n",
    "print('O maior número é:', maior)\n",
    "print('O menor número é:', menor)\n",
    "print('A média aritmética é:', media)"
   ]
  },
  {
   "cell_type": "code",
   "execution_count": null,
   "id": "a6c7d256-1798-45f9-8ee2-c9dfcbb6f76c",
   "metadata": {},
   "outputs": [],
   "source": []
  }
 ],
 "metadata": {
  "kernelspec": {
   "display_name": "Python 3 (ipykernel)",
   "language": "python",
   "name": "python3"
  },
  "language_info": {
   "codemirror_mode": {
    "name": "ipython",
    "version": 3
   },
   "file_extension": ".py",
   "mimetype": "text/x-python",
   "name": "python",
   "nbconvert_exporter": "python",
   "pygments_lexer": "ipython3",
   "version": "3.12.4"
  }
 },
 "nbformat": 4,
 "nbformat_minor": 5
}
