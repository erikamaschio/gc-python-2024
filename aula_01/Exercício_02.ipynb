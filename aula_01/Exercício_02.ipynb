{
 "cells": [
  {
   "cell_type": "markdown",
   "id": "e0007998-617e-4bfb-b349-8a48c685e9eb",
   "metadata": {},
   "source": [
    "### Exercício 02\n",
    "#### Crie um programa que receba 2 números e imprima a soma deles na tela"
   ]
  },
  {
   "cell_type": "code",
   "execution_count": 1,
   "id": "495a0333-8db3-4cd8-b0d5-2e799460307b",
   "metadata": {},
   "outputs": [
    {
     "name": "stdin",
     "output_type": "stream",
     "text": [
      "Digite o primeiro número:  20\n",
      "Digite o segundo número:  45\n"
     ]
    },
    {
     "name": "stdout",
     "output_type": "stream",
     "text": [
      "A soma dos números é: 65.0\n"
     ]
    }
   ],
   "source": [
    "num1 = (float(input('Digite o primeiro número: ')))\n",
    "num2 = (float(input('Digite o segundo número: ')))\n",
    "\n",
    "soma = num1 + num2\n",
    "\n",
    "print('A soma dos números é:', soma)"
   ]
  },
  {
   "cell_type": "code",
   "execution_count": null,
   "id": "777c962d-3105-40db-b4f6-6919b8347518",
   "metadata": {},
   "outputs": [],
   "source": []
  }
 ],
 "metadata": {
  "kernelspec": {
   "display_name": "Python 3 (ipykernel)",
   "language": "python",
   "name": "python3"
  },
  "language_info": {
   "codemirror_mode": {
    "name": "ipython",
    "version": 3
   },
   "file_extension": ".py",
   "mimetype": "text/x-python",
   "name": "python",
   "nbconvert_exporter": "python",
   "pygments_lexer": "ipython3",
   "version": "3.12.4"
  }
 },
 "nbformat": 4,
 "nbformat_minor": 5
}
