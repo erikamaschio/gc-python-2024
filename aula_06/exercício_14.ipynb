{
 "cells": [
  {
   "cell_type": "markdown",
   "id": "1c255646-2f16-4139-b82a-c09c0932773b",
   "metadata": {},
   "source": [
    "### Exercício 14 – Identificar e Contar Dados Faltantes\n",
    "#### Objetivo: Identificar os valores ausentes no DataFrame de empréstimos.\n",
    "#### Instruções:\n",
    "#### 1. Carregue o arquivo emprestimos.csv em um DataFrame.\n",
    "#### 2. Utilize métodos do pandas para identificar quantos valores ausentes (NaN) existem na coluna data_devolucao.\n",
    "#### 3. Exiba a quantidade total de valores ausentes."
   ]
  },
  {
   "cell_type": "code",
   "execution_count": 1,
   "id": "ca377946-6c67-43dd-9218-070cc5614630",
   "metadata": {},
   "outputs": [],
   "source": [
    "import pandas as pd "
   ]
  },
  {
   "cell_type": "code",
   "execution_count": 3,
   "id": "590bd6f1-ce41-4b29-a0ab-7a486aaa4697",
   "metadata": {},
   "outputs": [],
   "source": [
    "emprestimos = pd.read_csv(\"emprestimos.csv\")"
   ]
  },
  {
   "cell_type": "code",
   "execution_count": 4,
   "id": "e3b819c1-39a8-45cd-9f34-61a80d0a6ecc",
   "metadata": {},
   "outputs": [],
   "source": [
    "valores_ausentes = emprestimos['data_devolucao'].isna().sum()"
   ]
  },
  {
   "cell_type": "code",
   "execution_count": 6,
   "id": "d9dd141c-da6e-46f7-b7d8-f6b9b99f1276",
   "metadata": {},
   "outputs": [
    {
     "name": "stdout",
     "output_type": "stream",
     "text": [
      "Existem 15 livros sem a data de devolução.\n"
     ]
    }
   ],
   "source": [
    "print(f'Existem {valores_ausentes} livros sem a data de devolução.')"
   ]
  }
 ],
 "metadata": {
  "kernelspec": {
   "display_name": "Python 3 (ipykernel)",
   "language": "python",
   "name": "python3"
  },
  "language_info": {
   "codemirror_mode": {
    "name": "ipython",
    "version": 3
   },
   "file_extension": ".py",
   "mimetype": "text/x-python",
   "name": "python",
   "nbconvert_exporter": "python",
   "pygments_lexer": "ipython3",
   "version": "3.12.4"
  }
 },
 "nbformat": 4,
 "nbformat_minor": 5
}
