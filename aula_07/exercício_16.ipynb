{
 "cells": [
  {
   "cell_type": "markdown",
   "id": "1e6099a1-de06-49b4-b0a3-a1eb4c0d8697",
   "metadata": {},
   "source": [
    "### Exercício 16\n",
    "#### Considere o dataset 16_dataset_notas_alunos.csv (ver nos recursos da aula no Discord). Então, extraia as seguintes informações:\n",
    "#### 1. Calcule a média das notas em Matemática e Ciências.\n",
    "#### 2. Encontre a mediana das notas em Matemática e Ciências.\n",
    "#### 3. Determine a moda das notas em Matemática e Ciências.\n",
    "#### 4. Calcule a amplitude das notas em Matemática e Ciências.\n",
    "#### 5. Calcule a variância das notas em Matemática e Ciências.\n",
    "#### 6. Calcule o desvio padrão das notas em Matemática e Ciências.\n",
    "#### 7. Calcule a covariância entre as notas de Matemática e Ciências.\n",
    "#### 8. Calcule a correlação entre as notas de Matemática e Ciências."
   ]
  },
  {
   "cell_type": "code",
   "execution_count": 11,
   "id": "a81e718a-40f4-4dcc-a621-aee0e9a1f9bb",
   "metadata": {},
   "outputs": [],
   "source": [
    "import pandas as pd "
   ]
  },
  {
   "cell_type": "code",
   "execution_count": 12,
   "id": "c8098c90-639f-4f8c-a4e4-ae826d0dbb3b",
   "metadata": {},
   "outputs": [],
   "source": [
    "notas_alunos = pd.read_csv('16_dataset_notas_alunos.csv')"
   ]
  },
  {
   "cell_type": "code",
   "execution_count": 13,
   "id": "6b2db552-6424-4ab0-9bae-d75025c3b143",
   "metadata": {},
   "outputs": [],
   "source": [
    "df = pd.read_csv('16_dataset_notas_alunos.csv')"
   ]
  },
  {
   "cell_type": "code",
   "execution_count": 18,
   "id": "bcb38837-0fb6-40f9-953c-2f25afe5954d",
   "metadata": {},
   "outputs": [
    {
     "name": "stdout",
     "output_type": "stream",
     "text": [
      "Média em Matemática: 81.57\n",
      "Média em Ciências: 80.26\n"
     ]
    }
   ],
   "source": [
    "media_matematica = df['Matemática'].mean()\n",
    "media_ciencias = df['Ciências'].mean()\n",
    "\n",
    "print(\"Média em Matemática:\", media_matematica)\n",
    "print(\"Média em Ciências:\", media_ciencias)"
   ]
  },
  {
   "cell_type": "code",
   "execution_count": 19,
   "id": "3b42aac8-c6cb-4b83-ae4e-d116f0938884",
   "metadata": {},
   "outputs": [
    {
     "name": "stdout",
     "output_type": "stream",
     "text": [
      "Mediana em Matemática:  84.5\n",
      "Mediana em Ciências:  79.5\n"
     ]
    }
   ],
   "source": [
    "mediana_matematica =df['Matemática'].median()\n",
    "mediana_ciencias = df['Ciências'].median()\n",
    "\n",
    "print(\"Mediana em Matemática: \", mediana_matematica)\n",
    "print(\"Mediana em Ciências: \", mediana_ciencias)"
   ]
  },
  {
   "cell_type": "code",
   "execution_count": 24,
   "id": "bc478177-bfb6-4352-bf39-e7e68d73b1d8",
   "metadata": {},
   "outputs": [
    {
     "name": "stdout",
     "output_type": "stream",
     "text": [
      "Moda em Matemática: 0    98\n",
      "Name: Matemática, dtype: int64\n",
      "Moda em Ciências: 0    92\n",
      "Name: Ciências, dtype: int64\n"
     ]
    }
   ],
   "source": [
    "moda_matematica = df['Matemática'].mode()\n",
    "moda_ciencias = df['Ciências'].mode()\n",
    "\n",
    "print (f\"Moda em Matemática: {moda_matematica}\")\n",
    "print (f\"Moda em Ciências: {moda_ciencias}\")"
   ]
  },
  {
   "cell_type": "code",
   "execution_count": 29,
   "id": "1c23478b-dc00-4c73-b867-4cf6896cb04b",
   "metadata": {},
   "outputs": [
    {
     "name": "stdout",
     "output_type": "stream",
     "text": [
      "Amplitude em Matemática:  40\n",
      "Amplitude em Ciências:  40\n"
     ]
    }
   ],
   "source": [
    "amplitude_matematica = df ['Matemática'].max() - df['Matemática'].min()\n",
    "amplitude_ciencias= df ['Ciências'].max() - df['Ciências'].min()\n",
    "\n",
    "print(\"Amplitude em Matemática: \", amplitude_matematica)\n",
    "print(\"Amplitude em Ciências: \", amplitude_ciencias)"
   ]
  },
  {
   "cell_type": "code",
   "execution_count": 30,
   "id": "8d3d1567-f18b-45a3-984d-ac34909366ce",
   "metadata": {},
   "outputs": [
    {
     "name": "stdout",
     "output_type": "stream",
     "text": [
      "Variância em Matemática 160.75262626262628\n",
      "Variância em Ciênicas 150.1539393939394\n"
     ]
    }
   ],
   "source": [
    "variancia_matematica = df['Matemática'].var()\n",
    "variancia_ciencias = df['Ciências'].var()\n",
    "\n",
    "print(\"Variância em Matemática\", variancia_matematica)\n",
    "print(\"Variância em Ciênicas\", variancia_ciencias)"
   ]
  },
  {
   "cell_type": "code",
   "execution_count": 31,
   "id": "ba68d617-024f-4021-b904-6ca6a3a7586a",
   "metadata": {},
   "outputs": [
    {
     "name": "stdout",
     "output_type": "stream",
     "text": [
      "Desvio padrão em Matemática 12.678825902370704\n",
      "Desvio padrão em Ciências 12.253731651784259\n"
     ]
    }
   ],
   "source": [
    "desvio_padrao_matematica = df['Matemática'].std()\n",
    "desvio_padrao_ciencias = df['Ciências'].std()\n",
    "\n",
    "print(\"Desvio padrão em Matemática\", desvio_padrao_matematica)\n",
    "print(\"Desvio padrão em Ciências\", desvio_padrao_ciencias)"
   ]
  },
  {
   "cell_type": "code",
   "execution_count": 38,
   "id": "999f8fa5-5de7-4359-9096-8e6efc2ae225",
   "metadata": {},
   "outputs": [
    {
     "name": "stdout",
     "output_type": "stream",
     "text": [
      "Covariância entre Matemática e Ciências:  9.133131313131308\n"
     ]
    }
   ],
   "source": [
    "covariancia_matematica_ciencias = df [['Matemática', 'Ciências']].cov().iloc[0, 1]\n",
    "print(\"Covariância entre Matemática e Ciências: \",covariancia_matematica_ciencias)"
   ]
  },
  {
   "cell_type": "code",
   "execution_count": 40,
   "id": "1188481f-86a1-4a60-bf50-8cee9586031d",
   "metadata": {},
   "outputs": [
    {
     "name": "stdout",
     "output_type": "stream",
     "text": [
      "Corrrelação entre Matemática e Ciências 0.058785781765414935\n"
     ]
    }
   ],
   "source": [
    "correlacao_matematica_ciencias = df [['Matemática', 'Ciências']].corr().iloc[0, 1]\n",
    "print(\"Corrrelação entre Matemática e Ciências\", correlacao_matematica_ciencias)"
   ]
  }
 ],
 "metadata": {
  "kernelspec": {
   "display_name": "Python 3 (ipykernel)",
   "language": "python",
   "name": "python3"
  },
  "language_info": {
   "codemirror_mode": {
    "name": "ipython",
    "version": 3
   },
   "file_extension": ".py",
   "mimetype": "text/x-python",
   "name": "python",
   "nbconvert_exporter": "python",
   "pygments_lexer": "ipython3",
   "version": "3.12.4"
  }
 },
 "nbformat": 4,
 "nbformat_minor": 5
}
