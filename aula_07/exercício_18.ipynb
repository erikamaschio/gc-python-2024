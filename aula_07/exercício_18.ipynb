{
 "cells": [
  {
   "cell_type": "markdown",
   "id": "1b9800ea-f593-4cc4-aea8-dbbdb877f8bd",
   "metadata": {},
   "source": [
    "### Exercício 18 (MINI BOSS): Análise de Desempenho Escolar"
   ]
  },
  {
   "cell_type": "code",
   "execution_count": 47,
   "id": "c0e7aeb9-51f8-4cf8-9825-226778fe2f5e",
   "metadata": {},
   "outputs": [],
   "source": [
    "import pandas as pd"
   ]
  },
  {
   "cell_type": "code",
   "execution_count": 48,
   "id": "d03789b2-864e-4275-b4bd-c3e6593b4d89",
   "metadata": {},
   "outputs": [],
   "source": [
    "df = pd.read_csv('18_analise_avancada.csv')"
   ]
  },
  {
   "cell_type": "code",
   "execution_count": 49,
   "id": "16e39de6-cbd2-4e7f-badb-2508695dd5af",
   "metadata": {},
   "outputs": [],
   "source": [
    "turma_a = df[df['Turma'] == 'A']\n",
    "turma_b = df[df['Turma'] == 'B']\n",
    "turma_c = df[df['Turma'] == 'C']"
   ]
  },
  {
   "cell_type": "code",
   "execution_count": 50,
   "id": "5119df9a-fae7-437f-a7ea-5493d761d8ff",
   "metadata": {},
   "outputs": [],
   "source": [
    "turma_a_mat = turma_a['Matemática']\n",
    "turma_a_cie = turma_a['Ciências']\n",
    "\n",
    "turma_b_mat = turma_b['Matemática']\n",
    "turma_b_cie = turma_b['Ciências']\n",
    "\n",
    "turma_c_mat = turma_c['Matemática']\n",
    "turma_c_cie = turma_c['Ciências']"
   ]
  },
  {
   "cell_type": "code",
   "execution_count": 51,
   "id": "3c88fc36-8444-44be-8f04-7347f8b4cb8b",
   "metadata": {},
   "outputs": [],
   "source": [
    "media_a_mat = turma_a_mat.mean()\n",
    "media_a_cie = turma_a_cie.mean()\n",
    "\n",
    "media_b_mat = turma_b_mat.mean()\n",
    "media_b_cie = turma_b_cie.mean()\n",
    "\n",
    "media_c_mat = turma_c_mat.mean()\n",
    "media_c_cie = turma_c_cie.mean()"
   ]
  },
  {
   "cell_type": "code",
   "execution_count": 52,
   "id": "c0c55263-36ae-4438-a796-b49690512061",
   "metadata": {},
   "outputs": [],
   "source": [
    "mediana_a_mat = turma_a_mat.median()\n",
    "mediana_a_cie = turma_a_cie.median()\n",
    "\n",
    "mediana_b_mat = turma_b_mat.median()\n",
    "mediana_b_cie = turma_b_cie.median()\n",
    "\n",
    "mediana_c_mat = turma_c_mat.median()\n",
    "mediana_c_cie = turma_c_mat.median()"
   ]
  },
  {
   "cell_type": "code",
   "execution_count": 53,
   "id": "a2206187-81b5-4623-a25e-db87d09e25fb",
   "metadata": {},
   "outputs": [],
   "source": [
    "moda_a_mat = turma_a_mat.mode()[0]\n",
    "moda_a_cie = turma_a_cie.mode()[0]\n",
    "\n",
    "moda_b_mat = turma_b_mat.mode()[0]\n",
    "moda_b_cie = turma_b_cie.mode()[0]\n",
    "\n",
    "moda_c_mat = turma_c_mat.mode()[0]\n",
    "moda_c_cie = turma_c_cie.mode()[0]"
   ]
  },
  {
   "cell_type": "code",
   "execution_count": 54,
   "id": "e0b70311-4f0f-4cb7-9d67-1471dfd80153",
   "metadata": {},
   "outputs": [],
   "source": [
    "amplitude_a_mat = turma_a_mat.max() - turma_a_mat.min()\n",
    "amplitude_a_cie = turma_a_cie.max() - turma_a_cie.min()\n",
    "\n",
    "amplitude_b_mat = turma_b_mat.max() - turma_b_mat.min()\n",
    "amplitude_b_cie = turma_b_cie.max() - turma_b_cie.min()\n",
    "\n",
    "amplitude_c_mat = turma_c_mat.max() - turma_c_mat.min()\n",
    "amplitude_c_cie = turma_c_cie.max() - turma_c_cie.min()"
   ]
  },
  {
   "cell_type": "code",
   "execution_count": 55,
   "id": "e630a33a-93f5-4e29-886c-566c4b6e60a0",
   "metadata": {},
   "outputs": [],
   "source": [
    "variancia_a_mat = turma_a_mat.var()\n",
    "variancia_a_cie = turma_a_cie.var()\n",
    "\n",
    "variancia_b_mat = turma_b_mat.var()\n",
    "variancia_b_cie = turma_b_cie.var()\n",
    "\n",
    "variancia_c_mat = turma_c_mat.var()\n",
    "variancia_c_cie = turma_c_cie.var()"
   ]
  },
  {
   "cell_type": "code",
   "execution_count": 56,
   "id": "2191e145-efd2-4463-b846-ffc99c74438c",
   "metadata": {},
   "outputs": [],
   "source": [
    "desvio_padrao_a_mat = turma_a_mat.std()\n",
    "desvio_padrao_a_cie = turma_a_cie.std()\n",
    "\n",
    "desvio_padrao_b_mat = turma_b_mat.std()\n",
    "desvio_padrao_b_cie = turma_b_cie.std()\n",
    "\n",
    "desvio_padrao_c_mat = turma_c_mat.std()\n",
    "desvio_padrao_c_cie = turma_c_cie.std()"
   ]
  },
  {
   "cell_type": "code",
   "execution_count": 57,
   "id": "8be14b15-dcdc-4837-9766-97d9535cd727",
   "metadata": {},
   "outputs": [],
   "source": [
    "cov_a = turma_a_mat.cov(turma_a_cie)\n",
    "correlacao_a = turma_a_mat.corr(turma_a_cie)\n",
    "\n",
    "cov_b = turma_b_mat.cov(turma_b_cie)\n",
    "correlacao_b = turma_b_mat.corr(turma_b_cie)\n",
    "\n",
    "cov_c = turma_c_mat.cov(turma_c_cie)\n",
    "correlacao_c = turma_c_mat.corr(turma_c_cie)"
   ]
  },
  {
   "cell_type": "code",
   "execution_count": 58,
   "id": "157453d3-0767-4e85-a7be-0dd5cce9a018",
   "metadata": {},
   "outputs": [
    {
     "data": {
      "text/html": [
       "<div>\n",
       "<style scoped>\n",
       "    .dataframe tbody tr th:only-of-type {\n",
       "        vertical-align: middle;\n",
       "    }\n",
       "\n",
       "    .dataframe tbody tr th {\n",
       "        vertical-align: top;\n",
       "    }\n",
       "\n",
       "    .dataframe thead th {\n",
       "        text-align: right;\n",
       "    }\n",
       "</style>\n",
       "<table border=\"1\" class=\"dataframe\">\n",
       "  <thead>\n",
       "    <tr style=\"text-align: right;\">\n",
       "      <th></th>\n",
       "      <th>Medida</th>\n",
       "      <th>Matemática</th>\n",
       "      <th>Ciências</th>\n",
       "    </tr>\n",
       "  </thead>\n",
       "  <tbody>\n",
       "    <tr>\n",
       "      <th>0</th>\n",
       "      <td>Média</td>\n",
       "      <td>69.515152</td>\n",
       "      <td>70.393939</td>\n",
       "    </tr>\n",
       "    <tr>\n",
       "      <th>1</th>\n",
       "      <td>Mediana</td>\n",
       "      <td>68.000000</td>\n",
       "      <td>72.000000</td>\n",
       "    </tr>\n",
       "    <tr>\n",
       "      <th>2</th>\n",
       "      <td>Moda</td>\n",
       "      <td>94.000000</td>\n",
       "      <td>71.000000</td>\n",
       "    </tr>\n",
       "    <tr>\n",
       "      <th>3</th>\n",
       "      <td>Amplitude</td>\n",
       "      <td>57.000000</td>\n",
       "      <td>58.000000</td>\n",
       "    </tr>\n",
       "    <tr>\n",
       "      <th>4</th>\n",
       "      <td>Variância</td>\n",
       "      <td>325.570076</td>\n",
       "      <td>345.996212</td>\n",
       "    </tr>\n",
       "    <tr>\n",
       "      <th>5</th>\n",
       "      <td>Desvio Padrão</td>\n",
       "      <td>18.043561</td>\n",
       "      <td>18.600973</td>\n",
       "    </tr>\n",
       "    <tr>\n",
       "      <th>6</th>\n",
       "      <td>Covariância</td>\n",
       "      <td>-68.646780</td>\n",
       "      <td>-68.646780</td>\n",
       "    </tr>\n",
       "    <tr>\n",
       "      <th>7</th>\n",
       "      <td>Correlação</td>\n",
       "      <td>-0.204532</td>\n",
       "      <td>-0.204532</td>\n",
       "    </tr>\n",
       "  </tbody>\n",
       "</table>\n",
       "</div>"
      ],
      "text/plain": [
       "          Medida  Matemática    Ciências\n",
       "0          Média   69.515152   70.393939\n",
       "1        Mediana   68.000000   72.000000\n",
       "2           Moda   94.000000   71.000000\n",
       "3      Amplitude   57.000000   58.000000\n",
       "4      Variância  325.570076  345.996212\n",
       "5  Desvio Padrão   18.043561   18.600973\n",
       "6    Covariância  -68.646780  -68.646780\n",
       "7     Correlação   -0.204532   -0.204532"
      ]
     },
     "execution_count": 58,
     "metadata": {},
     "output_type": "execute_result"
    }
   ],
   "source": [
    "relatorio_a = pd.DataFrame({\n",
    "    'Medida': ['Média', 'Mediana', 'Moda', 'Amplitude', 'Variância', 'Desvio Padrão', 'Covariância', 'Correlação'],\n",
    "    'Matemática': [media_a_mat, mediana_a_mat, moda_a_mat, amplitude_a_mat, variancia_a_mat, desvio_padrao_a_mat, cov_a, correlacao_a],\n",
    "    'Ciências': [media_a_cie, mediana_a_cie, moda_a_cie, amplitude_a_cie, variancia_a_cie, desvio_padrao_a_cie, cov_a, correlacao_a]\n",
    "})\n",
    "\n",
    "relatorio_a"
   ]
  },
  {
   "cell_type": "code",
   "execution_count": 59,
   "id": "eff61cb9-816e-4049-88d7-1197e86d79a0",
   "metadata": {},
   "outputs": [
    {
     "data": {
      "text/html": [
       "<div>\n",
       "<style scoped>\n",
       "    .dataframe tbody tr th:only-of-type {\n",
       "        vertical-align: middle;\n",
       "    }\n",
       "\n",
       "    .dataframe tbody tr th {\n",
       "        vertical-align: top;\n",
       "    }\n",
       "\n",
       "    .dataframe thead th {\n",
       "        text-align: right;\n",
       "    }\n",
       "</style>\n",
       "<table border=\"1\" class=\"dataframe\">\n",
       "  <thead>\n",
       "    <tr style=\"text-align: right;\">\n",
       "      <th></th>\n",
       "      <th>Medida</th>\n",
       "      <th>Matemática</th>\n",
       "      <th>Ciências</th>\n",
       "    </tr>\n",
       "  </thead>\n",
       "  <tbody>\n",
       "    <tr>\n",
       "      <th>0</th>\n",
       "      <td>Média</td>\n",
       "      <td>70.888889</td>\n",
       "      <td>71.555556</td>\n",
       "    </tr>\n",
       "    <tr>\n",
       "      <th>1</th>\n",
       "      <td>Mediana</td>\n",
       "      <td>71.000000</td>\n",
       "      <td>72.000000</td>\n",
       "    </tr>\n",
       "    <tr>\n",
       "      <th>2</th>\n",
       "      <td>Moda</td>\n",
       "      <td>54.000000</td>\n",
       "      <td>58.000000</td>\n",
       "    </tr>\n",
       "    <tr>\n",
       "      <th>3</th>\n",
       "      <td>Amplitude</td>\n",
       "      <td>53.000000</td>\n",
       "      <td>58.000000</td>\n",
       "    </tr>\n",
       "    <tr>\n",
       "      <th>4</th>\n",
       "      <td>Variância</td>\n",
       "      <td>234.101587</td>\n",
       "      <td>374.311111</td>\n",
       "    </tr>\n",
       "    <tr>\n",
       "      <th>5</th>\n",
       "      <td>Desvio Padrão</td>\n",
       "      <td>15.300379</td>\n",
       "      <td>19.347122</td>\n",
       "    </tr>\n",
       "    <tr>\n",
       "      <th>6</th>\n",
       "      <td>Covariância</td>\n",
       "      <td>-25.165079</td>\n",
       "      <td>-25.165079</td>\n",
       "    </tr>\n",
       "    <tr>\n",
       "      <th>7</th>\n",
       "      <td>Correlação</td>\n",
       "      <td>-0.085012</td>\n",
       "      <td>-0.085012</td>\n",
       "    </tr>\n",
       "  </tbody>\n",
       "</table>\n",
       "</div>"
      ],
      "text/plain": [
       "          Medida  Matemática    Ciências\n",
       "0          Média   70.888889   71.555556\n",
       "1        Mediana   71.000000   72.000000\n",
       "2           Moda   54.000000   58.000000\n",
       "3      Amplitude   53.000000   58.000000\n",
       "4      Variância  234.101587  374.311111\n",
       "5  Desvio Padrão   15.300379   19.347122\n",
       "6    Covariância  -25.165079  -25.165079\n",
       "7     Correlação   -0.085012   -0.085012"
      ]
     },
     "execution_count": 59,
     "metadata": {},
     "output_type": "execute_result"
    }
   ],
   "source": [
    "relatorio_b = pd.DataFrame({\n",
    "    'Medida': ['Média', 'Mediana', 'Moda', 'Amplitude', 'Variância', 'Desvio Padrão', 'Covariância', 'Correlação'],\n",
    "    'Matemática': [media_b_mat, mediana_b_mat, moda_b_mat, amplitude_b_mat, variancia_b_mat, desvio_padrao_b_mat, cov_b, correlacao_b],\n",
    "    'Ciências': [media_b_cie, mediana_b_cie, moda_b_cie, amplitude_b_cie, variancia_b_cie, desvio_padrao_b_cie, cov_b, correlacao_b]\n",
    "})\n",
    "\n",
    "relatorio_b"
   ]
  },
  {
   "cell_type": "code",
   "execution_count": 60,
   "id": "ddf62774-a9c1-4695-84d8-221a78cce10f",
   "metadata": {},
   "outputs": [
    {
     "data": {
      "text/html": [
       "<div>\n",
       "<style scoped>\n",
       "    .dataframe tbody tr th:only-of-type {\n",
       "        vertical-align: middle;\n",
       "    }\n",
       "\n",
       "    .dataframe tbody tr th {\n",
       "        vertical-align: top;\n",
       "    }\n",
       "\n",
       "    .dataframe thead th {\n",
       "        text-align: right;\n",
       "    }\n",
       "</style>\n",
       "<table border=\"1\" class=\"dataframe\">\n",
       "  <thead>\n",
       "    <tr style=\"text-align: right;\">\n",
       "      <th></th>\n",
       "      <th>Medida</th>\n",
       "      <th>Matemática</th>\n",
       "      <th>Ciências</th>\n",
       "    </tr>\n",
       "  </thead>\n",
       "  <tbody>\n",
       "    <tr>\n",
       "      <th>0</th>\n",
       "      <td>Média</td>\n",
       "      <td>68.741935</td>\n",
       "      <td>67.580645</td>\n",
       "    </tr>\n",
       "    <tr>\n",
       "      <th>1</th>\n",
       "      <td>Mediana</td>\n",
       "      <td>74.000000</td>\n",
       "      <td>74.000000</td>\n",
       "    </tr>\n",
       "    <tr>\n",
       "      <th>2</th>\n",
       "      <td>Moda</td>\n",
       "      <td>78.000000</td>\n",
       "      <td>42.000000</td>\n",
       "    </tr>\n",
       "    <tr>\n",
       "      <th>3</th>\n",
       "      <td>Amplitude</td>\n",
       "      <td>60.000000</td>\n",
       "      <td>57.000000</td>\n",
       "    </tr>\n",
       "    <tr>\n",
       "      <th>4</th>\n",
       "      <td>Variância</td>\n",
       "      <td>307.997849</td>\n",
       "      <td>347.318280</td>\n",
       "    </tr>\n",
       "    <tr>\n",
       "      <th>5</th>\n",
       "      <td>Desvio Padrão</td>\n",
       "      <td>17.549868</td>\n",
       "      <td>18.636477</td>\n",
       "    </tr>\n",
       "    <tr>\n",
       "      <th>6</th>\n",
       "      <td>Covariância</td>\n",
       "      <td>77.054839</td>\n",
       "      <td>77.054839</td>\n",
       "    </tr>\n",
       "    <tr>\n",
       "      <th>7</th>\n",
       "      <td>Correlação</td>\n",
       "      <td>0.235593</td>\n",
       "      <td>0.235593</td>\n",
       "    </tr>\n",
       "  </tbody>\n",
       "</table>\n",
       "</div>"
      ],
      "text/plain": [
       "          Medida  Matemática    Ciências\n",
       "0          Média   68.741935   67.580645\n",
       "1        Mediana   74.000000   74.000000\n",
       "2           Moda   78.000000   42.000000\n",
       "3      Amplitude   60.000000   57.000000\n",
       "4      Variância  307.997849  347.318280\n",
       "5  Desvio Padrão   17.549868   18.636477\n",
       "6    Covariância   77.054839   77.054839\n",
       "7     Correlação    0.235593    0.235593"
      ]
     },
     "execution_count": 60,
     "metadata": {},
     "output_type": "execute_result"
    }
   ],
   "source": [
    "relatorio_c = pd.DataFrame({\n",
    "    'Medida': ['Média', 'Mediana', 'Moda', 'Amplitude', 'Variância', 'Desvio Padrão', 'Covariância', 'Correlação'],\n",
    "    'Matemática': [media_c_mat, mediana_c_mat, moda_c_mat, amplitude_c_mat, variancia_c_mat, desvio_padrao_c_mat, cov_c, correlacao_c],\n",
    "    'Ciências': [media_c_cie, mediana_c_cie, moda_c_cie, amplitude_c_cie, variancia_c_cie, desvio_padrao_c_cie, cov_c, correlacao_c]\n",
    "})\n",
    "\n",
    "relatorio_c"
   ]
  },
  {
   "cell_type": "markdown",
   "id": "4a25bdb8-cd2c-43a2-b763-8678a464b28a",
   "metadata": {},
   "source": [
    "## Conclusões: \n",
    "### 1. Com base nas medidas acima, qual turma teve o melhor desempenho geral em Matemática e Ciências? \n",
    "#### A Turma B apresentou o melhor desempenho geral, com as maiores médias tanto em Matemática quanto em Ciências."
   ]
  },
  {
   "cell_type": "code",
   "execution_count": null,
   "id": "20c3f31b-995d-4e5a-965f-088eb23ef613",
   "metadata": {},
   "outputs": [],
   "source": []
  },
  {
   "cell_type": "markdown",
   "id": "394c7440-723f-4b3c-a062-56b4091f542a",
   "metadata": {},
   "source": [
    "### 2. Qual turma tem as notas mais consistentes em termos de desvio padrão?\n",
    "#### Turma B também apresentou as notas mais consistentes, com o menor desvio padrão em ambas as disciplinas. Isso significa que as notas dos alunos da Turma B estão mais próximas da média da turma."
   ]
  },
  {
   "cell_type": "code",
   "execution_count": null,
   "id": "58d4686f-1cb8-4e6f-b61c-2f415873d9b0",
   "metadata": {},
   "outputs": [],
   "source": []
  },
  {
   "cell_type": "markdown",
   "id": "a5a5b321-ee2a-4880-ab17-2288c9fb8be1",
   "metadata": {},
   "source": [
    "### 3. Existe uma correlação entre o desempenho em Matemática e Ciências para cada turma? Essa correlação é positiva ou negativa?\n",
    "####  A Turma A e B, apresentam uma correlação negativa fraca, indicando que, nestas turmas, os alunos que se saíram bem em uma disciplina tendem a se sair um pouco pior na outra.\n",
    "#### A Turma C, apresenta uma correlação positiva moderada, indicando que, nesta turma, os alunos que se saíram bem em uma disciplina tendem a se sair bem na outra também."
   ]
  },
  {
   "cell_type": "code",
   "execution_count": null,
   "id": "94e51787-02d7-4aaf-a626-5a27e2532638",
   "metadata": {},
   "outputs": [],
   "source": []
  },
  {
   "cell_type": "markdown",
   "id": "96c5a831-e2c8-4474-82e9-77a90d0e2622",
   "metadata": {},
   "source": [
    "### 4. Qual turma apresenta a maior amplitude de notas? O que isso nos diz sobre a desigualdade de desempenho dentro da turma?\n",
    "#### Turma C apresenta a maior amplitude de notas, isso indica uma maior desigualdade de desempenho, com uma maior variação entre as notas mais altas e mais baixas na turma."
   ]
  },
  {
   "cell_type": "code",
   "execution_count": null,
   "id": "9fa6be8a-5944-46e3-b61c-52ea39dd6358",
   "metadata": {},
   "outputs": [],
   "source": []
  }
 ],
 "metadata": {
  "kernelspec": {
   "display_name": "Python 3 (ipykernel)",
   "language": "python",
   "name": "python3"
  },
  "language_info": {
   "codemirror_mode": {
    "name": "ipython",
    "version": 3
   },
   "file_extension": ".py",
   "mimetype": "text/x-python",
   "name": "python",
   "nbconvert_exporter": "python",
   "pygments_lexer": "ipython3",
   "version": "3.12.4"
  }
 },
 "nbformat": 4,
 "nbformat_minor": 5
}
