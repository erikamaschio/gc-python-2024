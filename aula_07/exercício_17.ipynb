{
 "cells": [
  {
   "cell_type": "markdown",
   "id": "346f343f-a603-4696-b41e-241ed5267774",
   "metadata": {},
   "source": [
    "### Exercício 17\n",
    "#### Você é um professor que deseja analisar as notas de dois grupos de alunos em um teste de matemática. Carregue o dataset chamado \n",
    "#### 17_notas_grupos.csv (ver nos recursos da aula no Discord), que contém duas colunas: Grupo_A e Grupo_B, representando as notas dos alunos.\n",
    "#### Calcule e compare:\n",
    "#### 1. a média das notas de ambos os grupos\n",
    "#### 2. a mediana das notas de ambos os grupos\n",
    "#### 3. o desvio padrão das notas de ambos os grupos..\n",
    "#### Não se esquça de imprimir os resultados comparando as duas turmas para cada resultado obtido, mas garanta que está em uma forma amigável e fácil de entender."
   ]
  },
  {
   "cell_type": "code",
   "execution_count": 2,
   "id": "342f55fc-cba2-4928-8bec-9df565714039",
   "metadata": {},
   "outputs": [],
   "source": [
    "import pandas as pd "
   ]
  },
  {
   "cell_type": "code",
   "execution_count": 3,
   "id": "258dc3f4-93ac-4dc1-94dd-cefc7a927135",
   "metadata": {},
   "outputs": [],
   "source": [
    "notas_grupos = pd.read_csv('17_notas_grupos.csv')"
   ]
  },
  {
   "cell_type": "code",
   "execution_count": 4,
   "id": "cae766e8-0011-4bd6-8696-90b3a46c3064",
   "metadata": {},
   "outputs": [],
   "source": [
    "df = pd.read_csv('17_notas_grupos.csv')"
   ]
  },
  {
   "cell_type": "code",
   "execution_count": 8,
   "id": "85de6a4a-3161-4d85-8965-391a4067698f",
   "metadata": {},
   "outputs": [
    {
     "name": "stdout",
     "output_type": "stream",
     "text": [
      "Média das notas:\n",
      "Grupo A: 51.31\n",
      "Grupo B: 48.05\n",
      "O Grupo A obteve a maior média.\n"
     ]
    }
   ],
   "source": [
    "media_grupo_a = df['Grupo_A'].mean()\n",
    "media_grupo_b = df['Grupo_B'].mean()\n",
    "\n",
    "print(\"Média das notas:\")\n",
    "print(f\"Grupo A: {media_grupo_a}\")\n",
    "print(f\"Grupo B: {media_grupo_b}\")\n",
    "\n",
    "if media_grupo_a > media_grupo_b:\n",
    "    print(\"O Grupo A obteve a maior média.\")\n",
    "elif media_grupo_a < media_grupo_b:\n",
    "    print(\"O Grupo B obteve a maior média.\")\n",
    "else:\n",
    "    print(\"Os grupos obtiveram a mesma média.\")"
   ]
  },
  {
   "cell_type": "code",
   "execution_count": 10,
   "id": "c1b6aa08-b930-4f6c-a42b-e5b4c84e993a",
   "metadata": {},
   "outputs": [
    {
     "name": "stdout",
     "output_type": "stream",
     "text": [
      "Mediana das notas: \n",
      "Grupo A: 53.5\n",
      "Grupo B: 43.5\n",
      "O grupo A obteve a maior mediana.\n"
     ]
    }
   ],
   "source": [
    "mediana_grupo_a = df['Grupo_A'].median()\n",
    "mediana_grupo_b = df['Grupo_B'].median()\n",
    "\n",
    "print(\"Mediana das notas: \")\n",
    "print(f\"Grupo A: {mediana_grupo_a}\")\n",
    "print(f\"Grupo B: {mediana_grupo_b}\")\n",
    "\n",
    "if mediana_grupo_a > mediana_grupo_b:\n",
    "    print(\"O grupo A obteve a maior mediana.\")\n",
    "elif mediana_grupo_b < mediana_grupo_a:\n",
    "    print(\"O grupo B obteve a maior mediana.\")\n",
    "else:\n",
    "    print(\"Os grupos obtiveram a mesma mediana.\")"
   ]
  },
  {
   "cell_type": "code",
   "execution_count": 11,
   "id": "ad8df9a4-21c7-427d-9c1b-b480bd489d45",
   "metadata": {},
   "outputs": [
    {
     "name": "stdout",
     "output_type": "stream",
     "text": [
      "Desvio padrão das notas: \n",
      "Grupo A: 29.704162548829295\n",
      "Grupo B: 30.74278267933283\n",
      "Os dois grupos obtiveram o mesmo desvio padrão.\n"
     ]
    }
   ],
   "source": [
    "desvio_padrao_grupo_a = df['Grupo_A'].std()\n",
    "desvio_padrao_grupo_b = df['Grupo_B'].std()\n",
    "\n",
    "print(\"Desvio padrão das notas: \")\n",
    "print(f\"Grupo A: {desvio_padrao_grupo_a}\")\n",
    "print(f\"Grupo B: {desvio_padrao_grupo_b}\")\n",
    "\n",
    "if desvio_padrao_grupo_a > desvio_padrao_grupo_b:\n",
    "    print(\"O grupo A obteve o maior desvio padrão.\")\n",
    "elif desvio_padrao_grupo_b < desvio_padrao_grupo_a:\n",
    "    print(\"O grupo B obteve o maior desvio padrão.\")\n",
    "else:\n",
    "    print(\"Os dois grupos obtiveram o mesmo desvio padrão.\")"
   ]
  }
 ],
 "metadata": {
  "kernelspec": {
   "display_name": "Python 3 (ipykernel)",
   "language": "python",
   "name": "python3"
  },
  "language_info": {
   "codemirror_mode": {
    "name": "ipython",
    "version": 3
   },
   "file_extension": ".py",
   "mimetype": "text/x-python",
   "name": "python",
   "nbconvert_exporter": "python",
   "pygments_lexer": "ipython3",
   "version": "3.12.4"
  }
 },
 "nbformat": 4,
 "nbformat_minor": 5
}
